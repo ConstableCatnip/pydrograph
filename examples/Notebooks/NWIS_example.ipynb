{
 "cells": [
  {
   "cell_type": "code",
   "execution_count": 1,
   "metadata": {},
   "outputs": [],
   "source": [
    "import numpy as np\n",
    "import pandas as pd\n",
    "import matplotlib.pyplot as plt\n",
    "from matplotlib.backends.backend_pdf import PdfPages\n",
    "import fiona\n",
    "from shapely.geometry import Point, shape\n",
    "from gisutils import df2shp, project\n",
    "from pydrograph import Nwis"
   ]
  },
  {
   "cell_type": "markdown",
   "metadata": {},
   "source": [
    "### instantiate an NWIS object using a polygon shapefile of the study area\n",
    "* `bbox.shp` is in UTM 83 zone 15 N\n",
    "* pydrograph will automatically reproject the extent to GCS NAD83 by default (EPSG: 4269), which is the typical GCS used by NWIS. Alternatively, the NAD27 datum can be used (EPSG: 4267) by specifying `datum=NAD27` to the `NWIS()` constructor."
   ]
  },
  {
   "cell_type": "code",
   "execution_count": 2,
   "metadata": {},
   "outputs": [
    {
     "name": "stdout",
     "output_type": "stream",
     "text": [
      "reading extent from ../data/bbox.shp...\n",
      "reprojecting extent from +init=epsg:26915 to +proj=longlat +ellps=GRS80 +datum=NAD83 +no_defs\n"
     ]
    },
    {
     "name": "stderr",
     "output_type": "stream",
     "text": [
      "/Users/aleaf/Documents/GitHub/pydrograph/pydrograph/nwis.py:163: FionaDeprecationWarning: Collection.__next__() is buggy and will be removed in Fiona 2.0. Switch to `next(iter(collection))`.\n",
      "  g = shape(shp.next()['geometry'])\n",
      "/Users/aleaf/opt/anaconda3/envs/gis/lib/python3.8/site-packages/pyproj/crs/crs.py:280: FutureWarning: '+init=<authority>:<code>' syntax is deprecated. '<authority>:<code>' is the preferred initialization method. When making the change, be mindful of axis order changes: https://pyproj4.github.io/pyproj/stable/gotchas.html#axis-order-changes-in-proj-6\n",
      "  projstring = _prepare_from_string(projparams)\n"
     ]
    }
   ],
   "source": [
    "nwis = Nwis(extent='../data/bbox.shp')"
   ]
  },
  {
   "cell_type": "markdown",
   "metadata": {},
   "source": [
    "### field measurements inventory table\n",
    "* fetches inventory tables of all misc field measurements within the polygon"
   ]
  },
  {
   "cell_type": "code",
   "execution_count": 3,
   "metadata": {},
   "outputs": [
    {
     "name": "stdout",
     "output_type": "stream",
     "text": [
      "getting site inventory for field_measurements...\n",
      "url: http://nwis.waterdata.usgs.gov/usa/nwis/measurements?nw_longitude_va=-92.700&nw_latitude_va=46.800&se_longitude_va=-92.600&se_latitude_va=46.700&coordinate_format=decimal_degrees&group_key=NONE&format=sitefile_output&sitefile_output_format=rdb&column_name=site_no&column_name=station_nm&column_name=site_tp_cd&column_name=dec_lat_va&column_name=dec_long_va&column_name=coord_meth_cd&column_name=coord_acy_cd&column_name=coord_datum_cd&column_name=dec_coord_datum_cd&column_name=district_cd&column_name=state_cd&column_name=county_cd&column_name=country_cd&column_name=land_net_ds&column_name=map_nm&column_name=map_scale_fc&column_name=alt_va&column_name=alt_meth_cd&column_name=alt_acy_va&column_name=alt_datum_cd&column_name=huc_cd&column_name=basin_cd&column_name=topo_cd&column_name=inventory_dt&column_name=drain_area_va&column_name=contrib_drain_area_va&column_name=tz_cd&column_name=local_time_fg&column_name=reliability_cd&column_name=project_no&column_name=rt_bol&column_name=peak_begin_date&column_name=peak_end_date&column_name=peak_count_nu&column_name=qw_begin_date&column_name=qw_end_date&column_name=qw_count_nu&column_name=sv_begin_date&column_name=sv_end_date&column_name=sv_count_nu&date_format=YYYY-MM-DD&rdb_compression=file&list_of_search_criteria=lat_long_bounding_box\n",
      "reading data with pandas...\n",
      "finished in 1.79s\n",
      "\n",
      "culling 1 sites to those within extent...\n",
      "finished inventory in 1.83s\n",
      "\n"
     ]
    }
   ],
   "source": [
    "field_sites = nwis.get_siteinfo('field_measurements')"
   ]
  },
  {
   "cell_type": "markdown",
   "metadata": {},
   "source": [
    "### daily values sites inventory table"
   ]
  },
  {
   "cell_type": "code",
   "execution_count": 4,
   "metadata": {},
   "outputs": [
    {
     "name": "stdout",
     "output_type": "stream",
     "text": [
      "getting site inventory for daily_values...\n",
      "url: http://nwis.waterdata.usgs.gov/usa/nwis/dv?referred_module=sw&site_tp_cd=ST&nw_longitude_va=-92.700&nw_latitude_va=46.800&se_longitude_va=-92.600&se_latitude_va=46.700&coordinate_format=decimal_degrees&group_key=NONE&format=sitefile_output&sitefile_output_format=rdb&column_name=site_no&column_name=station_nm&column_name=site_tp_cd&column_name=dec_lat_va&column_name=dec_long_va&column_name=coord_meth_cd&column_name=coord_acy_cd&column_name=coord_datum_cd&column_name=dec_coord_datum_cd&column_name=district_cd&column_name=state_cd&column_name=county_cd&column_name=country_cd&column_name=land_net_ds&column_name=map_nm&column_name=map_scale_fc&column_name=alt_va&column_name=alt_meth_cd&column_name=alt_acy_va&column_name=alt_datum_cd&column_name=huc_cd&column_name=basin_cd&column_name=topo_cd&column_name=inventory_dt&column_name=drain_area_va&column_name=contrib_drain_area_va&column_name=tz_cd&column_name=local_time_fg&column_name=reliability_cd&column_name=project_no&column_name=rt_bol&column_name=peak_begin_date&column_name=peak_end_date&column_name=peak_count_nu&column_name=qw_begin_date&column_name=qw_end_date&column_name=qw_count_nu&column_name=sv_begin_date&column_name=sv_end_date&column_name=sv_count_nu&range_selection=days&period=365&begin_date=1880-01-01&end_date=2020-08-06&date_format=YYYY-MM-DD&rdb_compression=file&list_of_search_criteria=lat_long_bounding_box\n",
      "reading data with pandas...\n",
      "finished in 1.28s\n",
      "\n",
      "culling 1 sites to those within extent...\n",
      "finished inventory in 1.33s\n",
      "\n"
     ]
    }
   ],
   "source": [
    "dv_sites = nwis.get_siteinfo('daily_values')"
   ]
  },
  {
   "cell_type": "markdown",
   "metadata": {},
   "source": [
    "### write shapefiles of the inventory tables\n",
    "* `shapely Points` were created from the lat/lon coordinates when the tables were assembled; these are used to write the feature geometries for the shapefiles"
   ]
  },
  {
   "cell_type": "code",
   "execution_count": 5,
   "metadata": {},
   "outputs": [
    {
     "name": "stdout",
     "output_type": "stream",
     "text": [
      "writing dv_sites.shp...\n",
      "writing misc_sites.shp...\n"
     ]
    }
   ],
   "source": [
    "df2shp(dv_sites, 'dv_sites.shp', epsg=4269)\n",
    "df2shp(field_sites, 'misc_sites.shp', epsg=4269)"
   ]
  },
  {
   "cell_type": "markdown",
   "metadata": {},
   "source": [
    "### get daily values for a list of sites"
   ]
  },
  {
   "cell_type": "code",
   "execution_count": 6,
   "metadata": {},
   "outputs": [
    {
     "data": {
      "text/plain": [
       "[4021520]"
      ]
     },
     "execution_count": 6,
     "metadata": {},
     "output_type": "execute_result"
    }
   ],
   "source": [
    "sites = dv_sites.site_no.tolist()[0:2]\n",
    "sites"
   ]
  },
  {
   "cell_type": "code",
   "execution_count": 7,
   "metadata": {},
   "outputs": [
    {
     "name": "stdout",
     "output_type": "stream",
     "text": [
      "http://waterservices.usgs.gov/nwis/dv/?format=rdb&sites=04021520&startDT=1990-01-01&parameterCd=00060\n"
     ]
    },
    {
     "data": {
      "text/plain": [
       "dict_keys([4021520])"
      ]
     },
     "execution_count": 7,
     "metadata": {},
     "output_type": "execute_result"
    }
   ],
   "source": [
    "dvs = nwis.get_all_dvs(sites, start_date='1990-01-01')\n",
    "dvs.keys()"
   ]
  },
  {
   "cell_type": "code",
   "execution_count": 8,
   "metadata": {},
   "outputs": [
    {
     "data": {
      "text/html": [
       "<div>\n",
       "<style scoped>\n",
       "    .dataframe tbody tr th:only-of-type {\n",
       "        vertical-align: middle;\n",
       "    }\n",
       "\n",
       "    .dataframe tbody tr th {\n",
       "        vertical-align: top;\n",
       "    }\n",
       "\n",
       "    .dataframe thead th {\n",
       "        text-align: right;\n",
       "    }\n",
       "</style>\n",
       "<table border=\"1\" class=\"dataframe\">\n",
       "  <thead>\n",
       "    <tr style=\"text-align: right;\">\n",
       "      <th></th>\n",
       "      <th>agency_cd</th>\n",
       "      <th>site_no</th>\n",
       "      <th>datetime</th>\n",
       "      <th>72604_00060_00003</th>\n",
       "      <th>72604_00060_00003_cd</th>\n",
       "    </tr>\n",
       "    <tr>\n",
       "      <th>datetime</th>\n",
       "      <th></th>\n",
       "      <th></th>\n",
       "      <th></th>\n",
       "      <th></th>\n",
       "      <th></th>\n",
       "    </tr>\n",
       "  </thead>\n",
       "  <tbody>\n",
       "    <tr>\n",
       "      <th>2005-05-26</th>\n",
       "      <td>USGS</td>\n",
       "      <td>4021520</td>\n",
       "      <td>2005-05-26</td>\n",
       "      <td>199</td>\n",
       "      <td>A</td>\n",
       "    </tr>\n",
       "    <tr>\n",
       "      <th>2005-05-27</th>\n",
       "      <td>USGS</td>\n",
       "      <td>4021520</td>\n",
       "      <td>2005-05-27</td>\n",
       "      <td>200</td>\n",
       "      <td>A:e</td>\n",
       "    </tr>\n",
       "    <tr>\n",
       "      <th>2005-05-28</th>\n",
       "      <td>USGS</td>\n",
       "      <td>4021520</td>\n",
       "      <td>2005-05-28</td>\n",
       "      <td>200</td>\n",
       "      <td>A</td>\n",
       "    </tr>\n",
       "    <tr>\n",
       "      <th>2005-05-29</th>\n",
       "      <td>USGS</td>\n",
       "      <td>4021520</td>\n",
       "      <td>2005-05-29</td>\n",
       "      <td>187</td>\n",
       "      <td>A</td>\n",
       "    </tr>\n",
       "    <tr>\n",
       "      <th>2005-05-30</th>\n",
       "      <td>USGS</td>\n",
       "      <td>4021520</td>\n",
       "      <td>2005-05-30</td>\n",
       "      <td>169</td>\n",
       "      <td>A</td>\n",
       "    </tr>\n",
       "  </tbody>\n",
       "</table>\n",
       "</div>"
      ],
      "text/plain": [
       "           agency_cd  site_no    datetime 72604_00060_00003  \\\n",
       "datetime                                                      \n",
       "2005-05-26      USGS  4021520  2005-05-26               199   \n",
       "2005-05-27      USGS  4021520  2005-05-27               200   \n",
       "2005-05-28      USGS  4021520  2005-05-28               200   \n",
       "2005-05-29      USGS  4021520  2005-05-29               187   \n",
       "2005-05-30      USGS  4021520  2005-05-30               169   \n",
       "\n",
       "           72604_00060_00003_cd  \n",
       "datetime                         \n",
       "2005-05-26                    A  \n",
       "2005-05-27                  A:e  \n",
       "2005-05-28                    A  \n",
       "2005-05-29                    A  \n",
       "2005-05-30                    A  "
      ]
     },
     "execution_count": 8,
     "metadata": {},
     "output_type": "execute_result"
    }
   ],
   "source": [
    "dvs[4021520].head()"
   ]
  },
  {
   "cell_type": "code",
   "execution_count": 9,
   "metadata": {},
   "outputs": [
    {
     "data": {
      "image/png": "[encoded data removed]",
      "text/plain": [
       "<Figure size 432x288 with 1 Axes>"
      ]
     },
     "metadata": {
      "needs_background": "light"
     },
     "output_type": "display_data"
    }
   ],
   "source": [
    "dvs[4021520]['Q'] = pd.to_numeric(dvs[4021520]['72604_00060_00003'], errors='coerce')\n",
    "ax = dvs[4021520]['Q'].plot()"
   ]
  },
  {
   "cell_type": "markdown",
   "metadata": {},
   "source": [
    "### get a single site"
   ]
  },
  {
   "cell_type": "code",
   "execution_count": 10,
   "metadata": {},
   "outputs": [
    {
     "name": "stdout",
     "output_type": "stream",
     "text": [
      "http://waterservices.usgs.gov/nwis/dv/?format=rdb&sites=04015475&startDT=1880-01-01&parameterCd=00060\n"
     ]
    },
    {
     "data": {
      "text/html": [
       "<div>\n",
       "<style scoped>\n",
       "    .dataframe tbody tr th:only-of-type {\n",
       "        vertical-align: middle;\n",
       "    }\n",
       "\n",
       "    .dataframe tbody tr th {\n",
       "        vertical-align: top;\n",
       "    }\n",
       "\n",
       "    .dataframe thead th {\n",
       "        text-align: right;\n",
       "    }\n",
       "</style>\n",
       "<table border=\"1\" class=\"dataframe\">\n",
       "  <thead>\n",
       "    <tr style=\"text-align: right;\">\n",
       "      <th></th>\n",
       "      <th>agency_cd</th>\n",
       "      <th>site_no</th>\n",
       "      <th>datetime</th>\n",
       "      <th>72578_00060_00003</th>\n",
       "      <th>72578_00060_00003_cd</th>\n",
       "    </tr>\n",
       "    <tr>\n",
       "      <th>datetime</th>\n",
       "      <th></th>\n",
       "      <th></th>\n",
       "      <th></th>\n",
       "      <th></th>\n",
       "      <th></th>\n",
       "    </tr>\n",
       "  </thead>\n",
       "  <tbody>\n",
       "    <tr>\n",
       "      <th>1978-09-19</th>\n",
       "      <td>USGS</td>\n",
       "      <td>4015475</td>\n",
       "      <td>1978-09-19</td>\n",
       "      <td>143.0</td>\n",
       "      <td>A</td>\n",
       "    </tr>\n",
       "    <tr>\n",
       "      <th>1978-09-20</th>\n",
       "      <td>USGS</td>\n",
       "      <td>4015475</td>\n",
       "      <td>1978-09-20</td>\n",
       "      <td>125.0</td>\n",
       "      <td>A</td>\n",
       "    </tr>\n",
       "    <tr>\n",
       "      <th>1978-09-21</th>\n",
       "      <td>USGS</td>\n",
       "      <td>4015475</td>\n",
       "      <td>1978-09-21</td>\n",
       "      <td>100.0</td>\n",
       "      <td>A</td>\n",
       "    </tr>\n",
       "    <tr>\n",
       "      <th>1978-09-22</th>\n",
       "      <td>USGS</td>\n",
       "      <td>4015475</td>\n",
       "      <td>1978-09-22</td>\n",
       "      <td>80.0</td>\n",
       "      <td>A</td>\n",
       "    </tr>\n",
       "    <tr>\n",
       "      <th>1978-09-23</th>\n",
       "      <td>USGS</td>\n",
       "      <td>4015475</td>\n",
       "      <td>1978-09-23</td>\n",
       "      <td>83.0</td>\n",
       "      <td>A</td>\n",
       "    </tr>\n",
       "  </tbody>\n",
       "</table>\n",
       "</div>"
      ],
      "text/plain": [
       "           agency_cd  site_no    datetime  72578_00060_00003  \\\n",
       "datetime                                                       \n",
       "1978-09-19      USGS  4015475  1978-09-19              143.0   \n",
       "1978-09-20      USGS  4015475  1978-09-20              125.0   \n",
       "1978-09-21      USGS  4015475  1978-09-21              100.0   \n",
       "1978-09-22      USGS  4015475  1978-09-22               80.0   \n",
       "1978-09-23      USGS  4015475  1978-09-23               83.0   \n",
       "\n",
       "           72578_00060_00003_cd  \n",
       "datetime                         \n",
       "1978-09-19                    A  \n",
       "1978-09-20                    A  \n",
       "1978-09-21                    A  \n",
       "1978-09-22                    A  \n",
       "1978-09-23                    A  "
      ]
     },
     "execution_count": 10,
     "metadata": {},
     "output_type": "execute_result"
    }
   ],
   "source": [
    "df = nwis.get_dvs(4015475)\n",
    "df.head()"
   ]
  },
  {
   "cell_type": "markdown",
   "metadata": {},
   "source": [
    "### just get the url for dvs for a site\n",
    "(`start_date` is 1880-01-01 by default; `end_date` is `None` by default)"
   ]
  },
  {
   "cell_type": "code",
   "execution_count": 11,
   "metadata": {},
   "outputs": [
    {
     "name": "stdout",
     "output_type": "stream",
     "text": [
      "http://waterservices.usgs.gov/nwis/dv/?format=rdb&sites=04015475&startDT=1880-01-01&parameterCd=00060\n"
     ]
    },
    {
     "data": {
      "text/plain": [
       "'http://waterservices.usgs.gov/nwis/dv/?format=rdb&sites=04015475&startDT=1880-01-01&parameterCd=00060'"
      ]
     },
     "execution_count": 11,
     "metadata": {},
     "output_type": "execute_result"
    }
   ],
   "source": [
    "url = nwis.make_dv_url(4015475)\n",
    "url"
   ]
  },
  {
   "cell_type": "markdown",
   "metadata": {},
   "source": [
    "## Fetch some miscellaneous measurements"
   ]
  },
  {
   "cell_type": "code",
   "execution_count": 12,
   "metadata": {},
   "outputs": [
    {
     "data": {
      "text/plain": [
       "[4021520]"
      ]
     },
     "execution_count": 12,
     "metadata": {},
     "output_type": "execute_result"
    }
   ],
   "source": [
    "sites = field_sites.site_no.tolist()[:5]\n",
    "sites"
   ]
  },
  {
   "cell_type": "code",
   "execution_count": 13,
   "metadata": {},
   "outputs": [
    {
     "name": "stdout",
     "output_type": "stream",
     "text": [
      "4021520\n",
      "http://nwis.waterdata.usgs.gov/nwis/measurements?site_no=04021520&agency_cd=USGS&format=rdb\n"
     ]
    }
   ],
   "source": [
    "fm = nwis.get_all_measurements(sites)"
   ]
  },
  {
   "cell_type": "code",
   "execution_count": 14,
   "metadata": {},
   "outputs": [
    {
     "data": {
      "text/html": [
       "<div>\n",
       "<style scoped>\n",
       "    .dataframe tbody tr th:only-of-type {\n",
       "        vertical-align: middle;\n",
       "    }\n",
       "\n",
       "    .dataframe tbody tr th {\n",
       "        vertical-align: top;\n",
       "    }\n",
       "\n",
       "    .dataframe thead th {\n",
       "        text-align: right;\n",
       "    }\n",
       "</style>\n",
       "<table border=\"1\" class=\"dataframe\">\n",
       "  <thead>\n",
       "    <tr style=\"text-align: right;\">\n",
       "      <th></th>\n",
       "      <th></th>\n",
       "      <th>agency_cd</th>\n",
       "      <th>site_no</th>\n",
       "      <th>measurement_nu</th>\n",
       "      <th>measurement_dt</th>\n",
       "      <th>tz_cd</th>\n",
       "      <th>q_meas_used_fg</th>\n",
       "      <th>party_nm</th>\n",
       "      <th>site_visit_coll_agency_cd</th>\n",
       "      <th>gage_height_va</th>\n",
       "      <th>discharge_va</th>\n",
       "      <th>measured_rating_diff</th>\n",
       "      <th>gage_va_change</th>\n",
       "      <th>gage_va_time</th>\n",
       "      <th>control_type_cd</th>\n",
       "      <th>discharge_cd</th>\n",
       "    </tr>\n",
       "    <tr>\n",
       "      <th>site_no</th>\n",
       "      <th>datetime</th>\n",
       "      <th></th>\n",
       "      <th></th>\n",
       "      <th></th>\n",
       "      <th></th>\n",
       "      <th></th>\n",
       "      <th></th>\n",
       "      <th></th>\n",
       "      <th></th>\n",
       "      <th></th>\n",
       "      <th></th>\n",
       "      <th></th>\n",
       "      <th></th>\n",
       "      <th></th>\n",
       "      <th></th>\n",
       "      <th></th>\n",
       "    </tr>\n",
       "  </thead>\n",
       "  <tbody>\n",
       "    <tr>\n",
       "      <th rowspan=\"5\" valign=\"top\">4021520</th>\n",
       "      <th>2005-04-27 12:11:00</th>\n",
       "      <td>USGS</td>\n",
       "      <td>4021520</td>\n",
       "      <td>1</td>\n",
       "      <td>2005-04-27 12:11:00</td>\n",
       "      <td>CDT</td>\n",
       "      <td>Yes</td>\n",
       "      <td>KGG/GRM</td>\n",
       "      <td>USGS</td>\n",
       "      <td>4.19</td>\n",
       "      <td>129.00</td>\n",
       "      <td>Good</td>\n",
       "      <td>0.00</td>\n",
       "      <td>1.1</td>\n",
       "      <td>Clear</td>\n",
       "      <td>NONE</td>\n",
       "    </tr>\n",
       "    <tr>\n",
       "      <th>2005-05-23 12:20:00</th>\n",
       "      <td>USGS</td>\n",
       "      <td>4021520</td>\n",
       "      <td>2</td>\n",
       "      <td>2005-05-23 12:20:00</td>\n",
       "      <td>CDT</td>\n",
       "      <td>Yes</td>\n",
       "      <td>GRM/WWL</td>\n",
       "      <td>USGS</td>\n",
       "      <td>4.22</td>\n",
       "      <td>135.00</td>\n",
       "      <td>Good</td>\n",
       "      <td>-0.01</td>\n",
       "      <td>0.9</td>\n",
       "      <td>Clear</td>\n",
       "      <td>NONE</td>\n",
       "    </tr>\n",
       "    <tr>\n",
       "      <th>2005-05-26 14:51:00</th>\n",
       "      <td>USGS</td>\n",
       "      <td>4021520</td>\n",
       "      <td>3</td>\n",
       "      <td>2005-05-26 14:51:00</td>\n",
       "      <td>CDT</td>\n",
       "      <td>Yes</td>\n",
       "      <td>DLR/GRM</td>\n",
       "      <td>USGS</td>\n",
       "      <td>5.01</td>\n",
       "      <td>199.00</td>\n",
       "      <td>Good</td>\n",
       "      <td>0.02</td>\n",
       "      <td>1.1</td>\n",
       "      <td>Clear</td>\n",
       "      <td>NONE</td>\n",
       "    </tr>\n",
       "    <tr>\n",
       "      <th>2005-06-07 14:45:00</th>\n",
       "      <td>USGS</td>\n",
       "      <td>4021520</td>\n",
       "      <td>4</td>\n",
       "      <td>2005-06-07 14:45:00</td>\n",
       "      <td>CDT</td>\n",
       "      <td>Yes</td>\n",
       "      <td>DLR</td>\n",
       "      <td>USGS</td>\n",
       "      <td>3.91</td>\n",
       "      <td>113.00</td>\n",
       "      <td>Good</td>\n",
       "      <td>0.00</td>\n",
       "      <td>0.7</td>\n",
       "      <td>Clear</td>\n",
       "      <td>NONE</td>\n",
       "    </tr>\n",
       "    <tr>\n",
       "      <th>2005-07-22 12:50:00</th>\n",
       "      <td>USGS</td>\n",
       "      <td>4021520</td>\n",
       "      <td>5</td>\n",
       "      <td>2005-07-22 12:50:00</td>\n",
       "      <td>CDT</td>\n",
       "      <td>Yes</td>\n",
       "      <td>GRM</td>\n",
       "      <td>USGS</td>\n",
       "      <td>1.61</td>\n",
       "      <td>5.82</td>\n",
       "      <td>Fair</td>\n",
       "      <td>0.00</td>\n",
       "      <td>0.5</td>\n",
       "      <td>Clear</td>\n",
       "      <td>NONE</td>\n",
       "    </tr>\n",
       "  </tbody>\n",
       "</table>\n",
       "</div>"
      ],
      "text/plain": [
       "                            agency_cd  site_no  measurement_nu  \\\n",
       "site_no datetime                                                 \n",
       "4021520 2005-04-27 12:11:00      USGS  4021520               1   \n",
       "        2005-05-23 12:20:00      USGS  4021520               2   \n",
       "        2005-05-26 14:51:00      USGS  4021520               3   \n",
       "        2005-06-07 14:45:00      USGS  4021520               4   \n",
       "        2005-07-22 12:50:00      USGS  4021520               5   \n",
       "\n",
       "                                 measurement_dt tz_cd q_meas_used_fg party_nm  \\\n",
       "site_no datetime                                                                \n",
       "4021520 2005-04-27 12:11:00 2005-04-27 12:11:00   CDT            Yes  KGG/GRM   \n",
       "        2005-05-23 12:20:00 2005-05-23 12:20:00   CDT            Yes  GRM/WWL   \n",
       "        2005-05-26 14:51:00 2005-05-26 14:51:00   CDT            Yes  DLR/GRM   \n",
       "        2005-06-07 14:45:00 2005-06-07 14:45:00   CDT            Yes      DLR   \n",
       "        2005-07-22 12:50:00 2005-07-22 12:50:00   CDT            Yes      GRM   \n",
       "\n",
       "                            site_visit_coll_agency_cd  gage_height_va  \\\n",
       "site_no datetime                                                        \n",
       "4021520 2005-04-27 12:11:00                      USGS            4.19   \n",
       "        2005-05-23 12:20:00                      USGS            4.22   \n",
       "        2005-05-26 14:51:00                      USGS            5.01   \n",
       "        2005-06-07 14:45:00                      USGS            3.91   \n",
       "        2005-07-22 12:50:00                      USGS            1.61   \n",
       "\n",
       "                             discharge_va measured_rating_diff  \\\n",
       "site_no datetime                                                 \n",
       "4021520 2005-04-27 12:11:00        129.00                 Good   \n",
       "        2005-05-23 12:20:00        135.00                 Good   \n",
       "        2005-05-26 14:51:00        199.00                 Good   \n",
       "        2005-06-07 14:45:00        113.00                 Good   \n",
       "        2005-07-22 12:50:00          5.82                 Fair   \n",
       "\n",
       "                             gage_va_change  gage_va_time control_type_cd  \\\n",
       "site_no datetime                                                            \n",
       "4021520 2005-04-27 12:11:00            0.00           1.1           Clear   \n",
       "        2005-05-23 12:20:00           -0.01           0.9           Clear   \n",
       "        2005-05-26 14:51:00            0.02           1.1           Clear   \n",
       "        2005-06-07 14:45:00            0.00           0.7           Clear   \n",
       "        2005-07-22 12:50:00            0.00           0.5           Clear   \n",
       "\n",
       "                            discharge_cd  \n",
       "site_no datetime                          \n",
       "4021520 2005-04-27 12:11:00         NONE  \n",
       "        2005-05-23 12:20:00         NONE  \n",
       "        2005-05-26 14:51:00         NONE  \n",
       "        2005-06-07 14:45:00         NONE  \n",
       "        2005-07-22 12:50:00         NONE  "
      ]
     },
     "execution_count": 14,
     "metadata": {},
     "output_type": "execute_result"
    }
   ],
   "source": [
    "fm.head()"
   ]
  },
  {
   "cell_type": "code",
   "execution_count": 15,
   "metadata": {},
   "outputs": [
    {
     "data": {
      "text/plain": [
       "<matplotlib.axes._subplots.AxesSubplot at 0x10f2ac400>"
      ]
     },
     "execution_count": 15,
     "metadata": {},
     "output_type": "execute_result"
    },
    {
     "data": {
      "image/png": "[encoded data removed]",
      "text/plain": [
       "<Figure size 432x288 with 1 Axes>"
      ]
     },
     "metadata": {
      "needs_background": "light"
     },
     "output_type": "display_data"
    }
   ],
   "source": [
    "ax = fm.loc[4021520, 'discharge_va'].plot(lw=0, marker='o', color='r')\n",
    "dvs[4021520]['Q'].plot(ax=ax)"
   ]
  },
  {
   "cell_type": "code",
   "execution_count": null,
   "metadata": {},
   "outputs": [],
   "source": []
  }
 ],
 "metadata": {
  "anaconda-cloud": {},
  "kernelspec": {
   "display_name": "gis",
   "language": "python",
   "name": "gis"
  },
  "language_info": {
   "codemirror_mode": {
    "name": "ipython",
    "version": 3
   },
   "file_extension": ".py",
   "mimetype": "text/x-python",
   "name": "python",
   "nbconvert_exporter": "python",
   "pygments_lexer": "ipython3",
   "version": "3.8.2"
  }
 },
 "nbformat": 4,
 "nbformat_minor": 1
}
