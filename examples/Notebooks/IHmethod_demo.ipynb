{
 "cells": [
  {
   "cell_type": "markdown",
   "metadata": {},
   "source": [
    "# Demonstration of baseflow separation using the Institute of Hydrology/BFI methods\n",
    "\n",
    "original documentation:\n",
    "Institute of Hydrology, 1980, Low flow studies report no. 3--Research report: \n",
    "Wallingford, Oxon, United Kingdom, Institute of Hydrology Report no. 3, p. 12-19, available at: http://nora.nerc.ac.uk/9098/1/Low_Flow_03.pdf  \n",
    "[MS word version](http://www.clemson.edu/ces/hydro/murdoch/Courses/Aquifer%20Systems/Modeling/modeling%20exercises.htm) prepared by Larry Murdoch of Clemson University\n",
    "\n",
    "Wahl, K.L and Wahl, T.L., 1988. Effects of regional ground-water level declines\n",
    "on streamflow in the Oklahoma Panhandle. In Proceedings of the Symposium on \n",
    "Water-Use Data for Water Resources Management, American Water Resources Association."
   ]
  },
  {
   "cell_type": "code",
   "execution_count": 1,
   "metadata": {},
   "outputs": [],
   "source": [
    "import numpy as np\n",
    "import pandas as pd\n",
    "import matplotlib as mpl\n",
    "import matplotlib.pyplot as plt\n",
    "from pydrograph.baseflow import IHmethod\n",
    "\n",
    "mpl.rcParams['figure.figsize'] = (11, 8.5)"
   ]
  },
  {
   "cell_type": "markdown",
   "metadata": {},
   "source": [
    "### input files"
   ]
  },
  {
   "cell_type": "code",
   "execution_count": 2,
   "metadata": {},
   "outputs": [],
   "source": [
    "pangdata = '../data/pang.csv' # hydrograph for the Pang River IH (1980) example\n",
    "pangresultsfile = '../data/pangbf.csv' # results from table 3.2a of IH (1980)"
   ]
  },
  {
   "cell_type": "markdown",
   "metadata": {},
   "source": [
    "#### read input files into pandas dataframes"
   ]
  },
  {
   "cell_type": "code",
   "execution_count": 3,
   "metadata": {},
   "outputs": [
    {
     "data": {
      "text/html": [
       "<div>\n",
       "<style scoped>\n",
       "    .dataframe tbody tr th:only-of-type {\n",
       "        vertical-align: middle;\n",
       "    }\n",
       "\n",
       "    .dataframe tbody tr th {\n",
       "        vertical-align: top;\n",
       "    }\n",
       "\n",
       "    .dataframe thead th {\n",
       "        text-align: right;\n",
       "    }\n",
       "</style>\n",
       "<table border=\"1\" class=\"dataframe\">\n",
       "  <thead>\n",
       "    <tr style=\"text-align: right;\">\n",
       "      <th></th>\n",
       "      <th>Q</th>\n",
       "    </tr>\n",
       "    <tr>\n",
       "      <th>date</th>\n",
       "      <th></th>\n",
       "    </tr>\n",
       "  </thead>\n",
       "  <tbody>\n",
       "    <tr>\n",
       "      <th>1970-01-01</th>\n",
       "      <td>0.422</td>\n",
       "    </tr>\n",
       "    <tr>\n",
       "      <th>1970-01-02</th>\n",
       "      <td>0.426</td>\n",
       "    </tr>\n",
       "    <tr>\n",
       "      <th>1970-01-03</th>\n",
       "      <td>0.421</td>\n",
       "    </tr>\n",
       "    <tr>\n",
       "      <th>1970-01-04</th>\n",
       "      <td>0.398</td>\n",
       "    </tr>\n",
       "    <tr>\n",
       "      <th>1970-01-05</th>\n",
       "      <td>0.389</td>\n",
       "    </tr>\n",
       "  </tbody>\n",
       "</table>\n",
       "</div>"
      ],
      "text/plain": [
       "                Q\n",
       "date             \n",
       "1970-01-01  0.422\n",
       "1970-01-02  0.426\n",
       "1970-01-03  0.421\n",
       "1970-01-04  0.398\n",
       "1970-01-05  0.389"
      ]
     },
     "execution_count": 3,
     "metadata": {},
     "output_type": "execute_result"
    }
   ],
   "source": [
    "# benchmark IHmethod on Pang example (from original documentation)\n",
    "df = pd.read_csv(pangdata, index_col='date', parse_dates=True)\n",
    "pangresults = pd.read_csv(pangresultsfile)\n",
    "df.head()"
   ]
  },
  {
   "cell_type": "code",
   "execution_count": 4,
   "metadata": {},
   "outputs": [
    {
     "data": {
      "text/html": [
       "<div>\n",
       "<style scoped>\n",
       "    .dataframe tbody tr th:only-of-type {\n",
       "        vertical-align: middle;\n",
       "    }\n",
       "\n",
       "    .dataframe tbody tr th {\n",
       "        vertical-align: top;\n",
       "    }\n",
       "\n",
       "    .dataframe thead th {\n",
       "        text-align: right;\n",
       "    }\n",
       "</style>\n",
       "<table border=\"1\" class=\"dataframe\">\n",
       "  <thead>\n",
       "    <tr style=\"text-align: right;\">\n",
       "      <th></th>\n",
       "      <th>Date of turning point</th>\n",
       "      <th>Discharge (cumecs)</th>\n",
       "      <th>Time span between turning points (days)</th>\n",
       "      <th>Average discharge (cumecs)</th>\n",
       "      <th>Increment of Baseflow (cumec-days)</th>\n",
       "    </tr>\n",
       "  </thead>\n",
       "  <tbody>\n",
       "    <tr>\n",
       "      <th>0</th>\n",
       "      <td>7/1</td>\n",
       "      <td>0.364</td>\n",
       "      <td>10.0</td>\n",
       "      <td>0.496</td>\n",
       "      <td>4.96</td>\n",
       "    </tr>\n",
       "    <tr>\n",
       "      <th>1</th>\n",
       "      <td>17/1</td>\n",
       "      <td>0.628</td>\n",
       "      <td>4.0</td>\n",
       "      <td>0.637</td>\n",
       "      <td>2.55</td>\n",
       "    </tr>\n",
       "    <tr>\n",
       "      <th>2</th>\n",
       "      <td>21/1</td>\n",
       "      <td>0.645</td>\n",
       "      <td>16.0</td>\n",
       "      <td>0.701</td>\n",
       "      <td>11.21</td>\n",
       "    </tr>\n",
       "    <tr>\n",
       "      <th>3</th>\n",
       "      <td>6/2</td>\n",
       "      <td>0.756</td>\n",
       "      <td>5.0</td>\n",
       "      <td>0.731</td>\n",
       "      <td>3.66</td>\n",
       "    </tr>\n",
       "    <tr>\n",
       "      <th>4</th>\n",
       "      <td>11/2</td>\n",
       "      <td>0.706</td>\n",
       "      <td>4.0</td>\n",
       "      <td>0.687</td>\n",
       "      <td>2.75</td>\n",
       "    </tr>\n",
       "  </tbody>\n",
       "</table>\n",
       "</div>"
      ],
      "text/plain": [
       "  Date of turning point  Discharge (cumecs)  \\\n",
       "0                   7/1               0.364   \n",
       "1                  17/1               0.628   \n",
       "2                  21/1               0.645   \n",
       "3                   6/2               0.756   \n",
       "4                  11/2               0.706   \n",
       "\n",
       "   Time span between turning points (days)  Average discharge (cumecs)  \\\n",
       "0                                     10.0                       0.496   \n",
       "1                                      4.0                       0.637   \n",
       "2                                     16.0                       0.701   \n",
       "3                                      5.0                       0.731   \n",
       "4                                      4.0                       0.687   \n",
       "\n",
       "   Increment of Baseflow (cumec-days)  \n",
       "0                                4.96  \n",
       "1                                2.55  \n",
       "2                               11.21  \n",
       "3                                3.66  \n",
       "4                                2.75  "
      ]
     },
     "execution_count": 4,
     "metadata": {},
     "output_type": "execute_result"
    }
   ],
   "source": [
    "pangresults.head()"
   ]
  },
  {
   "cell_type": "markdown",
   "metadata": {},
   "source": [
    "### BFI parameters"
   ]
  },
  {
   "cell_type": "code",
   "execution_count": 5,
   "metadata": {},
   "outputs": [],
   "source": [
    "block_length = 5 # days\n",
    "turning_point = 0.9 # fraction of adjacent flows\n",
    "interp_semilog = False # semilog or linear interpolation between turning points"
   ]
  },
  {
   "cell_type": "markdown",
   "metadata": {},
   "source": [
    "### IH/BFI proceedure"
   ]
  },
  {
   "cell_type": "markdown",
   "metadata": {},
   "source": [
    "#### 1) Divide the mean daily flow data into non-overlapping blocks of `block_length` days\n",
    "calculate the minima for each of these blocks, and let them be called $Q1, Q2, Q3...Qn.$"
   ]
  },
  {
   "cell_type": "code",
   "execution_count": 6,
   "metadata": {},
   "outputs": [
    {
     "data": {
      "text/html": [
       "<div>\n",
       "<style scoped>\n",
       "    .dataframe tbody tr th:only-of-type {\n",
       "        vertical-align: middle;\n",
       "    }\n",
       "\n",
       "    .dataframe tbody tr th {\n",
       "        vertical-align: top;\n",
       "    }\n",
       "\n",
       "    .dataframe thead th {\n",
       "        text-align: right;\n",
       "    }\n",
       "</style>\n",
       "<table border=\"1\" class=\"dataframe\">\n",
       "  <thead>\n",
       "    <tr style=\"text-align: right;\">\n",
       "      <th></th>\n",
       "      <th>Q</th>\n",
       "      <th>n</th>\n",
       "    </tr>\n",
       "    <tr>\n",
       "      <th>date</th>\n",
       "      <th></th>\n",
       "      <th></th>\n",
       "    </tr>\n",
       "  </thead>\n",
       "  <tbody>\n",
       "    <tr>\n",
       "      <th>1970-01-01</th>\n",
       "      <td>0.422</td>\n",
       "      <td>1.0</td>\n",
       "    </tr>\n",
       "    <tr>\n",
       "      <th>1970-01-02</th>\n",
       "      <td>0.426</td>\n",
       "      <td>1.0</td>\n",
       "    </tr>\n",
       "    <tr>\n",
       "      <th>1970-01-03</th>\n",
       "      <td>0.421</td>\n",
       "      <td>1.0</td>\n",
       "    </tr>\n",
       "    <tr>\n",
       "      <th>1970-01-04</th>\n",
       "      <td>0.398</td>\n",
       "      <td>1.0</td>\n",
       "    </tr>\n",
       "    <tr>\n",
       "      <th>1970-01-05</th>\n",
       "      <td>0.389</td>\n",
       "      <td>1.0</td>\n",
       "    </tr>\n",
       "  </tbody>\n",
       "</table>\n",
       "</div>"
      ],
      "text/plain": [
       "                Q    n\n",
       "date                  \n",
       "1970-01-01  0.422  1.0\n",
       "1970-01-02  0.426  1.0\n",
       "1970-01-03  0.421  1.0\n",
       "1970-01-04  0.398  1.0\n",
       "1970-01-05  0.389  1.0"
      ]
     },
     "execution_count": 6,
     "metadata": {},
     "output_type": "execute_result"
    }
   ],
   "source": [
    "# compute block numbers for grouping values on blocks\n",
    "nblocks = int(np.floor(len(df) / float(block_length)))\n",
    "\n",
    "# make list of ints, one per measurement, denoting the block\n",
    "# eg [1,1,1,1,1,2,2,2,2,2...] for block_length = 5\n",
    "n = []\n",
    "for i in range(nblocks):\n",
    "    n += [i + 1] * block_length\n",
    "n += [np.nan] * (len(df) - len(n))  # pad any leftover values with nans\n",
    "df['n'] = n\n",
    "df.head()"
   ]
  },
  {
   "cell_type": "code",
   "execution_count": 7,
   "metadata": {},
   "outputs": [
    {
     "data": {
      "text/html": [
       "<div>\n",
       "<style scoped>\n",
       "    .dataframe tbody tr th:only-of-type {\n",
       "        vertical-align: middle;\n",
       "    }\n",
       "\n",
       "    .dataframe tbody tr th {\n",
       "        vertical-align: top;\n",
       "    }\n",
       "\n",
       "    .dataframe thead th {\n",
       "        text-align: right;\n",
       "    }\n",
       "</style>\n",
       "<table border=\"1\" class=\"dataframe\">\n",
       "  <thead>\n",
       "    <tr style=\"text-align: right;\">\n",
       "      <th></th>\n",
       "      <th>block_Qmin</th>\n",
       "      <th>n</th>\n",
       "      <th>datetime</th>\n",
       "    </tr>\n",
       "    <tr>\n",
       "      <th>n</th>\n",
       "      <th></th>\n",
       "      <th></th>\n",
       "      <th></th>\n",
       "    </tr>\n",
       "  </thead>\n",
       "  <tbody>\n",
       "    <tr>\n",
       "      <th>1.0</th>\n",
       "      <td>0.389</td>\n",
       "      <td>1.0</td>\n",
       "      <td>1970-01-05</td>\n",
       "    </tr>\n",
       "    <tr>\n",
       "      <th>2.0</th>\n",
       "      <td>0.364</td>\n",
       "      <td>2.0</td>\n",
       "      <td>1970-01-07</td>\n",
       "    </tr>\n",
       "    <tr>\n",
       "      <th>3.0</th>\n",
       "      <td>0.630</td>\n",
       "      <td>3.0</td>\n",
       "      <td>1970-01-13</td>\n",
       "    </tr>\n",
       "    <tr>\n",
       "      <th>4.0</th>\n",
       "      <td>0.628</td>\n",
       "      <td>4.0</td>\n",
       "      <td>1970-01-17</td>\n",
       "    </tr>\n",
       "    <tr>\n",
       "      <th>5.0</th>\n",
       "      <td>0.645</td>\n",
       "      <td>5.0</td>\n",
       "      <td>1970-01-21</td>\n",
       "    </tr>\n",
       "  </tbody>\n",
       "</table>\n",
       "</div>"
      ],
      "text/plain": [
       "     block_Qmin    n   datetime\n",
       "n                              \n",
       "1.0       0.389  1.0 1970-01-05\n",
       "2.0       0.364  2.0 1970-01-07\n",
       "3.0       0.630  3.0 1970-01-13\n",
       "4.0       0.628  4.0 1970-01-17\n",
       "5.0       0.645  5.0 1970-01-21"
      ]
     },
     "execution_count": 7,
     "metadata": {},
     "output_type": "execute_result"
    }
   ],
   "source": [
    "# create dataframe Q, which only has minimums for each block\n",
    "Q = df.groupby('n').min()\n",
    "Q = Q.rename(columns={'Q': 'block_Qmin'})\n",
    "Q['n'] = Q.index\n",
    "Q['datetime'] = df[['Q', 'n']].groupby('n').idxmin()  # include dates of minimum values\n",
    "Q.head()"
   ]
  },
  {
   "cell_type": "markdown",
   "metadata": {},
   "source": [
    "#### 2) Compute ordinates (turning points)\n",
    "* Consider in turn $(Q1, Q2, Q3,), (Q2, Q3, Q4),...(Qi-1, Qi, Qi+1)$ etc.\n",
    "* In each case, if 0.9  x  central value < outer values, then the central value is an ordinate for the base flow line.  \n",
    "* Continue this procedure until all the data have been analysed to provide a derived set of base flow ordinates $QB1, QB2, QB3,...QBn$ which will have different time periods between them."
   ]
  },
  {
   "cell_type": "code",
   "execution_count": 8,
   "metadata": {},
   "outputs": [
    {
     "data": {
      "text/html": [
       "<div>\n",
       "<style scoped>\n",
       "    .dataframe tbody tr th:only-of-type {\n",
       "        vertical-align: middle;\n",
       "    }\n",
       "\n",
       "    .dataframe tbody tr th {\n",
       "        vertical-align: top;\n",
       "    }\n",
       "\n",
       "    .dataframe thead th {\n",
       "        text-align: right;\n",
       "    }\n",
       "</style>\n",
       "<table border=\"1\" class=\"dataframe\">\n",
       "  <thead>\n",
       "    <tr style=\"text-align: right;\">\n",
       "      <th></th>\n",
       "      <th>block_Qmin</th>\n",
       "      <th>n</th>\n",
       "      <th>datetime</th>\n",
       "      <th>ordinate</th>\n",
       "      <th>Qi-1</th>\n",
       "      <th>Qi</th>\n",
       "      <th>Qi+1</th>\n",
       "    </tr>\n",
       "    <tr>\n",
       "      <th>datetime</th>\n",
       "      <th></th>\n",
       "      <th></th>\n",
       "      <th></th>\n",
       "      <th></th>\n",
       "      <th></th>\n",
       "      <th></th>\n",
       "      <th></th>\n",
       "    </tr>\n",
       "  </thead>\n",
       "  <tbody>\n",
       "    <tr>\n",
       "      <th>1970-01-05</th>\n",
       "      <td>0.389</td>\n",
       "      <td>1.0</td>\n",
       "      <td>1970-01-05</td>\n",
       "      <td>NaN</td>\n",
       "      <td>NaN</td>\n",
       "      <td>NaN</td>\n",
       "      <td>NaN</td>\n",
       "    </tr>\n",
       "    <tr>\n",
       "      <th>1970-01-07</th>\n",
       "      <td>0.364</td>\n",
       "      <td>2.0</td>\n",
       "      <td>1970-01-07</td>\n",
       "      <td>0.364</td>\n",
       "      <td>0.389</td>\n",
       "      <td>0.364</td>\n",
       "      <td>0.630</td>\n",
       "    </tr>\n",
       "    <tr>\n",
       "      <th>1970-01-13</th>\n",
       "      <td>0.630</td>\n",
       "      <td>3.0</td>\n",
       "      <td>1970-01-13</td>\n",
       "      <td>NaN</td>\n",
       "      <td>0.364</td>\n",
       "      <td>0.630</td>\n",
       "      <td>0.628</td>\n",
       "    </tr>\n",
       "    <tr>\n",
       "      <th>1970-01-17</th>\n",
       "      <td>0.628</td>\n",
       "      <td>4.0</td>\n",
       "      <td>1970-01-17</td>\n",
       "      <td>0.628</td>\n",
       "      <td>0.630</td>\n",
       "      <td>0.628</td>\n",
       "      <td>0.645</td>\n",
       "    </tr>\n",
       "    <tr>\n",
       "      <th>1970-01-21</th>\n",
       "      <td>0.645</td>\n",
       "      <td>5.0</td>\n",
       "      <td>1970-01-21</td>\n",
       "      <td>0.645</td>\n",
       "      <td>0.628</td>\n",
       "      <td>0.645</td>\n",
       "      <td>0.786</td>\n",
       "    </tr>\n",
       "  </tbody>\n",
       "</table>\n",
       "</div>"
      ],
      "text/plain": [
       "            block_Qmin    n   datetime  ordinate   Qi-1     Qi   Qi+1\n",
       "datetime                                                             \n",
       "1970-01-05       0.389  1.0 1970-01-05       NaN    NaN    NaN    NaN\n",
       "1970-01-07       0.364  2.0 1970-01-07     0.364  0.389  0.364  0.630\n",
       "1970-01-13       0.630  3.0 1970-01-13       NaN  0.364  0.630  0.628\n",
       "1970-01-17       0.628  4.0 1970-01-17     0.628  0.630  0.628  0.645\n",
       "1970-01-21       0.645  5.0 1970-01-21     0.645  0.628  0.645  0.786"
      ]
     },
     "execution_count": 8,
     "metadata": {},
     "output_type": "execute_result"
    }
   ],
   "source": [
    "# compute baseflow ordinates\n",
    "Q['ordinate'] = [np.nan] * len(Q)\n",
    "Qlist = Q.block_Qmin.tolist()\n",
    "Q['Qi-1'] = [np.nan] + Qlist[:-2] + [np.nan]\n",
    "Q['Qi'] = [np.nan] + Qlist[1:-1] + [np.nan]\n",
    "Q['Qi+1'] = [np.nan] + Qlist[2:] + [np.nan]\n",
    "isordinate = turning_point * Q.Qi < Q[['Qi-1', 'Qi+1']].min(axis=1)\n",
    "Q.loc[isordinate, 'ordinate'] = Q.loc[isordinate, 'block_Qmin']\n",
    "\n",
    "# reset the index of Q to datetime\n",
    "Q.index = Q.datetime\n",
    "Q.head()"
   ]
  },
  {
   "cell_type": "markdown",
   "metadata": {},
   "source": [
    "#### 3) By linear interpolation between each QBi value, estimate each daily value of $QB1...QBn$\n",
    "in the BFI program, semi-logarithmic interpolation is used"
   ]
  },
  {
   "cell_type": "code",
   "execution_count": 9,
   "metadata": {},
   "outputs": [
    {
     "data": {
      "text/html": [
       "<div>\n",
       "<style scoped>\n",
       "    .dataframe tbody tr th:only-of-type {\n",
       "        vertical-align: middle;\n",
       "    }\n",
       "\n",
       "    .dataframe tbody tr th {\n",
       "        vertical-align: top;\n",
       "    }\n",
       "\n",
       "    .dataframe thead th {\n",
       "        text-align: right;\n",
       "    }\n",
       "</style>\n",
       "<table border=\"1\" class=\"dataframe\">\n",
       "  <thead>\n",
       "    <tr style=\"text-align: right;\">\n",
       "      <th></th>\n",
       "      <th>block_Qmin</th>\n",
       "      <th>n</th>\n",
       "      <th>ordinate</th>\n",
       "      <th>Qi-1</th>\n",
       "      <th>Qi</th>\n",
       "      <th>Qi+1</th>\n",
       "      <th>QB</th>\n",
       "      <th>Q</th>\n",
       "    </tr>\n",
       "    <tr>\n",
       "      <th>datetime</th>\n",
       "      <th></th>\n",
       "      <th></th>\n",
       "      <th></th>\n",
       "      <th></th>\n",
       "      <th></th>\n",
       "      <th></th>\n",
       "      <th></th>\n",
       "      <th></th>\n",
       "    </tr>\n",
       "  </thead>\n",
       "  <tbody>\n",
       "    <tr>\n",
       "      <th>1970-01-05</th>\n",
       "      <td>0.389</td>\n",
       "      <td>1.0</td>\n",
       "      <td>NaN</td>\n",
       "      <td>NaN</td>\n",
       "      <td>NaN</td>\n",
       "      <td>NaN</td>\n",
       "      <td>NaN</td>\n",
       "      <td>0.389</td>\n",
       "    </tr>\n",
       "    <tr>\n",
       "      <th>1970-01-06</th>\n",
       "      <td>NaN</td>\n",
       "      <td>NaN</td>\n",
       "      <td>NaN</td>\n",
       "      <td>NaN</td>\n",
       "      <td>NaN</td>\n",
       "      <td>NaN</td>\n",
       "      <td>NaN</td>\n",
       "      <td>0.395</td>\n",
       "    </tr>\n",
       "    <tr>\n",
       "      <th>1970-01-07</th>\n",
       "      <td>0.364</td>\n",
       "      <td>2.0</td>\n",
       "      <td>0.364</td>\n",
       "      <td>0.389</td>\n",
       "      <td>0.364</td>\n",
       "      <td>0.63</td>\n",
       "      <td>0.3640</td>\n",
       "      <td>0.364</td>\n",
       "    </tr>\n",
       "    <tr>\n",
       "      <th>1970-01-08</th>\n",
       "      <td>NaN</td>\n",
       "      <td>NaN</td>\n",
       "      <td>NaN</td>\n",
       "      <td>NaN</td>\n",
       "      <td>NaN</td>\n",
       "      <td>NaN</td>\n",
       "      <td>0.3904</td>\n",
       "      <td>0.379</td>\n",
       "    </tr>\n",
       "    <tr>\n",
       "      <th>1970-01-09</th>\n",
       "      <td>NaN</td>\n",
       "      <td>NaN</td>\n",
       "      <td>NaN</td>\n",
       "      <td>NaN</td>\n",
       "      <td>NaN</td>\n",
       "      <td>NaN</td>\n",
       "      <td>0.4168</td>\n",
       "      <td>0.593</td>\n",
       "    </tr>\n",
       "  </tbody>\n",
       "</table>\n",
       "</div>"
      ],
      "text/plain": [
       "            block_Qmin    n  ordinate   Qi-1     Qi  Qi+1      QB      Q\n",
       "datetime                                                                \n",
       "1970-01-05       0.389  1.0       NaN    NaN    NaN   NaN     NaN  0.389\n",
       "1970-01-06         NaN  NaN       NaN    NaN    NaN   NaN     NaN  0.395\n",
       "1970-01-07       0.364  2.0     0.364  0.389  0.364  0.63  0.3640  0.364\n",
       "1970-01-08         NaN  NaN       NaN    NaN    NaN   NaN  0.3904  0.379\n",
       "1970-01-09         NaN  NaN       NaN    NaN    NaN   NaN  0.4168  0.593"
      ]
     },
     "execution_count": 9,
     "metadata": {},
     "output_type": "execute_result"
    }
   ],
   "source": [
    "# expand Q dataframe back out to include row for each day\n",
    "Q = Q.dropna(subset=['datetime'], axis=0).resample('D').mean()\n",
    "\n",
    "# interpolate between baseflow ordinates\n",
    "if interp_semilog:\n",
    "    iszero = Q.ordinate.values == 0\n",
    "    logQ = np.log10(Q.ordinate)\n",
    "    logQ[iszero] = -2\n",
    "    QB = np.power(10.0, logQ.interpolate(limit=100).values)\n",
    "else:\n",
    "    QB = Q.ordinate.interpolate(limit=100).values\n",
    "Q['QB'] = QB\n",
    "\n",
    "# reassign the original flow values back to Q\n",
    "Q['Q'] = df.Q.loc[Q.index]\n",
    "Q.head()"
   ]
  },
  {
   "cell_type": "markdown",
   "metadata": {},
   "source": [
    "#### 4) If QBi > Qi then set QBi = Qi"
   ]
  },
  {
   "cell_type": "code",
   "execution_count": 10,
   "metadata": {},
   "outputs": [
    {
     "name": "stderr",
     "output_type": "stream",
     "text": [
      "<ipython-input-10-3d46c7b3c9d2>:2: RuntimeWarning: invalid value encountered in greater\n",
      "  QBgreaterthanQ = Q.QB.values > Q.Q.values\n"
     ]
    }
   ],
   "source": [
    "# ensure that no baseflow values are > Q measured\n",
    "QBgreaterthanQ = Q.QB.values > Q.Q.values\n",
    "Q.loc[QBgreaterthanQ, 'QB'] = Q.loc[QBgreaterthanQ, 'Q']"
   ]
  },
  {
   "cell_type": "markdown",
   "metadata": {},
   "source": [
    "### Compare with results from original report\n",
    "<img src=\"../data/pangresults.png\" alt=\"Drawing\" align='left' style=\"width: 700px;\"/>\n"
   ]
  },
  {
   "cell_type": "code",
   "execution_count": 11,
   "metadata": {},
   "outputs": [
    {
     "data": {
      "text/plain": [
       "<matplotlib.legend.Legend at 0x120452d30>"
      ]
     },
     "execution_count": 11,
     "metadata": {},
     "output_type": "execute_result"
    },
    {
     "data": {
      "image/png": "[encoded data removed]",
      "text/plain": [
       "<Figure size 792x612 with 1 Axes>"
      ]
     },
     "metadata": {
      "needs_background": "light"
     },
     "output_type": "display_data"
    }
   ],
   "source": [
    "ax = Q[['Q', 'QB']].plot()\n",
    "minima = Q.block_Qmin.dropna().plot(ax=ax, lw=0.5, c='0.2', mfc='k',\n",
    "                                    marker='o', markersize=4,\n",
    "                                    label='{} day minima'.format(block_length))\n",
    "ords = Q.ordinate.dropna().plot(ax=ax, marker='o', mfc='r', lw=0, markersize=6,\n",
    "                                label='turning points')\n",
    "plt.legend()"
   ]
  },
  {
   "cell_type": "code",
   "execution_count": 12,
   "metadata": {},
   "outputs": [
    {
     "data": {
      "text/html": [
       "<div>\n",
       "<style scoped>\n",
       "    .dataframe tbody tr th:only-of-type {\n",
       "        vertical-align: middle;\n",
       "    }\n",
       "\n",
       "    .dataframe tbody tr th {\n",
       "        vertical-align: top;\n",
       "    }\n",
       "\n",
       "    .dataframe thead th {\n",
       "        text-align: right;\n",
       "    }\n",
       "</style>\n",
       "<table border=\"1\" class=\"dataframe\">\n",
       "  <thead>\n",
       "    <tr style=\"text-align: right;\">\n",
       "      <th></th>\n",
       "      <th>Date of turning point</th>\n",
       "      <th>Discharge (cumecs)</th>\n",
       "      <th>Time span between turning points (days)</th>\n",
       "      <th>Average discharge (cumecs)</th>\n",
       "      <th>Increment of Baseflow (cumec-days)</th>\n",
       "    </tr>\n",
       "  </thead>\n",
       "  <tbody>\n",
       "    <tr>\n",
       "      <th>0</th>\n",
       "      <td>7/1</td>\n",
       "      <td>0.364</td>\n",
       "      <td>10.0</td>\n",
       "      <td>0.496</td>\n",
       "      <td>4.96</td>\n",
       "    </tr>\n",
       "    <tr>\n",
       "      <th>1</th>\n",
       "      <td>17/1</td>\n",
       "      <td>0.628</td>\n",
       "      <td>4.0</td>\n",
       "      <td>0.637</td>\n",
       "      <td>2.55</td>\n",
       "    </tr>\n",
       "    <tr>\n",
       "      <th>2</th>\n",
       "      <td>21/1</td>\n",
       "      <td>0.645</td>\n",
       "      <td>16.0</td>\n",
       "      <td>0.701</td>\n",
       "      <td>11.21</td>\n",
       "    </tr>\n",
       "    <tr>\n",
       "      <th>3</th>\n",
       "      <td>6/2</td>\n",
       "      <td>0.756</td>\n",
       "      <td>5.0</td>\n",
       "      <td>0.731</td>\n",
       "      <td>3.66</td>\n",
       "    </tr>\n",
       "    <tr>\n",
       "      <th>4</th>\n",
       "      <td>11/2</td>\n",
       "      <td>0.706</td>\n",
       "      <td>4.0</td>\n",
       "      <td>0.687</td>\n",
       "      <td>2.75</td>\n",
       "    </tr>\n",
       "  </tbody>\n",
       "</table>\n",
       "</div>"
      ],
      "text/plain": [
       "  Date of turning point  Discharge (cumecs)  \\\n",
       "0                   7/1               0.364   \n",
       "1                  17/1               0.628   \n",
       "2                  21/1               0.645   \n",
       "3                   6/2               0.756   \n",
       "4                  11/2               0.706   \n",
       "\n",
       "   Time span between turning points (days)  Average discharge (cumecs)  \\\n",
       "0                                     10.0                       0.496   \n",
       "1                                      4.0                       0.637   \n",
       "2                                     16.0                       0.701   \n",
       "3                                      5.0                       0.731   \n",
       "4                                      4.0                       0.687   \n",
       "\n",
       "   Increment of Baseflow (cumec-days)  \n",
       "0                                4.96  \n",
       "1                                2.55  \n",
       "2                               11.21  \n",
       "3                                3.66  \n",
       "4                                2.75  "
      ]
     },
     "execution_count": 12,
     "metadata": {},
     "output_type": "execute_result"
    }
   ],
   "source": [
    "pangresults.head()"
   ]
  },
  {
   "cell_type": "code",
   "execution_count": 13,
   "metadata": {},
   "outputs": [
    {
     "data": {
      "text/plain": [
       "array([0.    , 0.    , 0.    , 0.    , 0.    , 0.    , 0.    , 0.0003,\n",
       "       0.0003, 0.0003, 0.    , 0.    , 0.    , 0.    , 0.    , 0.    ,\n",
       "       0.    , 0.    , 0.    , 0.    , 0.    , 0.    , 0.    , 0.    ,\n",
       "       0.    , 0.    , 0.    , 0.    , 0.    , 0.    , 0.    , 0.    ,\n",
       "       0.    , 0.    , 0.    , 0.    ])"
      ]
     },
     "execution_count": 13,
     "metadata": {},
     "output_type": "execute_result"
    }
   ],
   "source": [
    "Q.dropna(subset=['ordinate']).Q.values - pangresults['Discharge (cumecs)'].values"
   ]
  },
  {
   "cell_type": "code",
   "execution_count": 14,
   "metadata": {},
   "outputs": [
    {
     "data": {
      "text/plain": [
       "(116.92599999999999, 132.17399999999998, 0.8846369180020277)"
      ]
     },
     "execution_count": 14,
     "metadata": {},
     "output_type": "execute_result"
    }
   ],
   "source": [
    "# Total volume beneath baseflow and recorded hydrographs\n",
    "VB = Q.loc['1-7-1970':'8-17-1970', 'QB'].round(3).sum()\n",
    "VA = Q.loc['1-7-1970':'8-17-1970', 'Q'].round(3).sum() # matches example data but not reported sum\n",
    "BFI = VB/VA\n",
    "VB, VA, BFI"
   ]
  },
  {
   "cell_type": "markdown",
   "metadata": {},
   "source": [
    "### `nwis.baseflow.IHmethod()`"
   ]
  },
  {
   "cell_type": "code",
   "execution_count": 15,
   "metadata": {},
   "outputs": [
    {
     "name": "stderr",
     "output_type": "stream",
     "text": [
      "/Users/aleaf/Documents/GitHub/pydrograph/pydrograph/baseflow.py:197: RuntimeWarning: invalid value encountered in greater\n",
      "  QBgreaterthanQ = Q.QB.values > Q.Q.values\n"
     ]
    }
   ],
   "source": [
    "Q2 = IHmethod(df.Q, interp_semilog=True)"
   ]
  },
  {
   "cell_type": "code",
   "execution_count": 16,
   "metadata": {},
   "outputs": [
    {
     "data": {
      "text/html": [
       "<div>\n",
       "<style scoped>\n",
       "    .dataframe tbody tr th:only-of-type {\n",
       "        vertical-align: middle;\n",
       "    }\n",
       "\n",
       "    .dataframe tbody tr th {\n",
       "        vertical-align: top;\n",
       "    }\n",
       "\n",
       "    .dataframe thead th {\n",
       "        text-align: right;\n",
       "    }\n",
       "</style>\n",
       "<table border=\"1\" class=\"dataframe\">\n",
       "  <thead>\n",
       "    <tr style=\"text-align: right;\">\n",
       "      <th></th>\n",
       "      <th>block_Qmin</th>\n",
       "      <th>n</th>\n",
       "      <th>ordinate</th>\n",
       "      <th>Qi-1</th>\n",
       "      <th>Qi</th>\n",
       "      <th>Qi+1</th>\n",
       "      <th>QB</th>\n",
       "      <th>Q</th>\n",
       "    </tr>\n",
       "    <tr>\n",
       "      <th>datetime</th>\n",
       "      <th></th>\n",
       "      <th></th>\n",
       "      <th></th>\n",
       "      <th></th>\n",
       "      <th></th>\n",
       "      <th></th>\n",
       "      <th></th>\n",
       "      <th></th>\n",
       "    </tr>\n",
       "  </thead>\n",
       "  <tbody>\n",
       "    <tr>\n",
       "      <th>1970-01-05</th>\n",
       "      <td>0.389</td>\n",
       "      <td>1.0</td>\n",
       "      <td>NaN</td>\n",
       "      <td>NaN</td>\n",
       "      <td>NaN</td>\n",
       "      <td>NaN</td>\n",
       "      <td>NaN</td>\n",
       "      <td>0.389</td>\n",
       "    </tr>\n",
       "    <tr>\n",
       "      <th>1970-01-06</th>\n",
       "      <td>NaN</td>\n",
       "      <td>NaN</td>\n",
       "      <td>NaN</td>\n",
       "      <td>NaN</td>\n",
       "      <td>NaN</td>\n",
       "      <td>NaN</td>\n",
       "      <td>NaN</td>\n",
       "      <td>0.395</td>\n",
       "    </tr>\n",
       "    <tr>\n",
       "      <th>1970-01-07</th>\n",
       "      <td>0.364</td>\n",
       "      <td>2.0</td>\n",
       "      <td>0.364</td>\n",
       "      <td>0.389</td>\n",
       "      <td>0.364</td>\n",
       "      <td>0.63</td>\n",
       "      <td>0.36400</td>\n",
       "      <td>0.364</td>\n",
       "    </tr>\n",
       "    <tr>\n",
       "      <th>1970-01-08</th>\n",
       "      <td>NaN</td>\n",
       "      <td>NaN</td>\n",
       "      <td>NaN</td>\n",
       "      <td>NaN</td>\n",
       "      <td>NaN</td>\n",
       "      <td>NaN</td>\n",
       "      <td>0.37900</td>\n",
       "      <td>0.379</td>\n",
       "    </tr>\n",
       "    <tr>\n",
       "      <th>1970-01-09</th>\n",
       "      <td>NaN</td>\n",
       "      <td>NaN</td>\n",
       "      <td>NaN</td>\n",
       "      <td>NaN</td>\n",
       "      <td>NaN</td>\n",
       "      <td>NaN</td>\n",
       "      <td>0.40595</td>\n",
       "      <td>0.593</td>\n",
       "    </tr>\n",
       "  </tbody>\n",
       "</table>\n",
       "</div>"
      ],
      "text/plain": [
       "            block_Qmin    n  ordinate   Qi-1     Qi  Qi+1       QB      Q\n",
       "datetime                                                                 \n",
       "1970-01-05       0.389  1.0       NaN    NaN    NaN   NaN      NaN  0.389\n",
       "1970-01-06         NaN  NaN       NaN    NaN    NaN   NaN      NaN  0.395\n",
       "1970-01-07       0.364  2.0     0.364  0.389  0.364  0.63  0.36400  0.364\n",
       "1970-01-08         NaN  NaN       NaN    NaN    NaN   NaN  0.37900  0.379\n",
       "1970-01-09         NaN  NaN       NaN    NaN    NaN   NaN  0.40595  0.593"
      ]
     },
     "execution_count": 16,
     "metadata": {},
     "output_type": "execute_result"
    }
   ],
   "source": [
    "Q2.head()"
   ]
  },
  {
   "cell_type": "code",
   "execution_count": 17,
   "metadata": {},
   "outputs": [
    {
     "data": {
      "text/plain": [
       "array([0.    , 0.    , 0.    , 0.    , 0.    , 0.    , 0.    , 0.0003,\n",
       "       0.0003, 0.0003, 0.    , 0.    , 0.    , 0.    , 0.    , 0.    ,\n",
       "       0.    , 0.    , 0.    , 0.    , 0.    , 0.    , 0.    , 0.    ,\n",
       "       0.    , 0.    , 0.    , 0.    , 0.    , 0.    , 0.    , 0.    ,\n",
       "       0.    , 0.    , 0.    , 0.    ])"
      ]
     },
     "execution_count": 17,
     "metadata": {},
     "output_type": "execute_result"
    }
   ],
   "source": [
    "Q2.dropna(subset=['ordinate']).Q.values - pangresults['Discharge (cumecs)'].values"
   ]
  },
  {
   "cell_type": "markdown",
   "metadata": {},
   "source": [
    "### Difference between linear and semilog interpolation\n",
    "(too small to see visibly in this example)"
   ]
  },
  {
   "cell_type": "code",
   "execution_count": 18,
   "metadata": {},
   "outputs": [
    {
     "data": {
      "text/plain": [
       "<matplotlib.axes._subplots.AxesSubplot at 0x120878970>"
      ]
     },
     "execution_count": 18,
     "metadata": {},
     "output_type": "execute_result"
    },
    {
     "data": {
      "image/png": "[encoded data removed]",
      "text/plain": [
       "<Figure size 792x612 with 2 Axes>"
      ]
     },
     "metadata": {
      "needs_background": "light"
     },
     "output_type": "display_data"
    }
   ],
   "source": [
    "fig, axes = plt.subplots(2, 1, sharex=True)\n",
    "axes[0] = Q2[['Q', 'QB']].plot(ax=axes[0])\n",
    "Q2.QB.plot(ax=axes[0])\n",
    "\n",
    "(Q.QB - Q2.QB).plot(ax=axes[1])"
   ]
  }
 ],
 "metadata": {
  "kernelspec": {
   "display_name": "Python 3",
   "language": "python",
   "name": "python3"
  },
  "language_info": {
   "codemirror_mode": {
    "name": "ipython",
    "version": 3
   },
   "file_extension": ".py",
   "mimetype": "text/x-python",
   "name": "python",
   "nbconvert_exporter": "python",
   "pygments_lexer": "ipython3",
   "version": "3.8.2"
  }
 },
 "nbformat": 4,
 "nbformat_minor": 1
}
