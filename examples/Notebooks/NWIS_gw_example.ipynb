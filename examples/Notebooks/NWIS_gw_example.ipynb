{
 "cells": [
  {
   "cell_type": "code",
   "execution_count": 1,
   "metadata": {},
   "outputs": [],
   "source": [
    "import numpy as np\n",
    "import pandas as pd\n",
    "import matplotlib.pyplot as plt\n",
    "from matplotlib.backends.backend_pdf import PdfPages\n",
    "import fiona\n",
    "from shapely.geometry import Point, shape\n",
    "from gisutils import df2shp, project\n",
    "from pydrograph import Nwis"
   ]
  },
  {
   "cell_type": "markdown",
   "metadata": {},
   "source": [
    "### instantiate an NWIS object using a polygon shapefile of the study area\n",
    "* `bbox.shp` is in UTM 83 zone 15 N\n",
    "* pydrograph will automatically reproject the extent to GCS NAD83 by default (EPSG: 4269), which is the typical GCS used by NWIS. Alternatively, the NAD27 datum can be used (EPSG: 4267) by specifying `datum=NAD27` to the `NWIS()` constructor."
   ]
  },
  {
   "cell_type": "code",
   "execution_count": 2,
   "metadata": {},
   "outputs": [
    {
     "name": "stdout",
     "output_type": "stream",
     "text": [
      "reading extent from ../data/bbox.shp...\n",
      "reprojecting extent from +init=epsg:26915 to +proj=longlat +ellps=GRS80 +datum=NAD83 +no_defs\n"
     ]
    },
    {
     "name": "stderr",
     "output_type": "stream",
     "text": [
      "/Users/aleaf/Documents/GitHub/pydrograph/pydrograph/nwis.py:163: FionaDeprecationWarning: Collection.__next__() is buggy and will be removed in Fiona 2.0. Switch to `next(iter(collection))`.\n",
      "  g = shape(shp.next()['geometry'])\n",
      "/Users/aleaf/opt/anaconda3/envs/gis/lib/python3.8/site-packages/pyproj/crs/crs.py:280: FutureWarning: '+init=<authority>:<code>' syntax is deprecated. '<authority>:<code>' is the preferred initialization method. When making the change, be mindful of axis order changes: https://pyproj4.github.io/pyproj/stable/gotchas.html#axis-order-changes-in-proj-6\n",
      "  projstring = _prepare_from_string(projparams)\n"
     ]
    }
   ],
   "source": [
    "nwis = Nwis(extent='../data/bbox.shp')"
   ]
  },
  {
   "cell_type": "markdown",
   "metadata": {},
   "source": [
    "### field measurements inventory table\n",
    "* fetches inventory tables of all misc field measurements within the polygon"
   ]
  },
  {
   "cell_type": "code",
   "execution_count": 3,
   "metadata": {},
   "outputs": [
    {
     "name": "stdout",
     "output_type": "stream",
     "text": [
      "getting site inventory for gwlevels...\n",
      "url: http://nwis.waterdata.usgs.gov/usa/nwis/gwlevels?nw_longitude_va=-92.700&nw_latitude_va=46.800&se_longitude_va=-92.600&se_latitude_va=46.700&coordinate_format=decimal_degrees&group_key=NONE&format=sitefile_output&sitefile_output_format=rdb&column_name=site_no&column_name=station_nm&column_name=site_tp_cd&column_name=dec_lat_va&column_name=dec_long_va&column_name=coord_meth_cd&column_name=coord_acy_cd&column_name=coord_datum_cd&column_name=dec_coord_datum_cd&column_name=district_cd&column_name=state_cd&column_name=county_cd&column_name=country_cd&column_name=land_net_ds&column_name=map_nm&column_name=map_scale_fc&column_name=alt_va&column_name=alt_meth_cd&column_name=alt_acy_va&column_name=alt_datum_cd&column_name=huc_cd&column_name=basin_cd&column_name=topo_cd&column_name=data_types_cd&column_name=instruments_cd&column_name=construction_dt&column_name=inventory_dt&column_name=tz_cd&column_name=local_time_fg&column_name=reliability_cd&column_name=gw_file_cd&column_name=nat_aqfr_cd&column_name=aqfr_cd&column_name=aqfr_type_cd&column_name=well_depth_va&column_name=hole_depth_va&column_name=depth_src_cd&column_name=project_no&column_name=rt_bol&column_name=peak_begin_date&column_name=peak_end_date&column_name=peak_count_nu&column_name=qw_begin_date&column_name=qw_end_date&column_name=qw_count_nu&column_name=gw_begin_date&column_name=gw_end_date&column_name=gw_count_nu&column_name=sv_begin_date&column_name=sv_end_date&column_name=sv_count_nu&date_format=YYYY-MM-DD&rdb_compression=file&list_of_search_criteria=lat_long_bounding_box\n",
      "reading data with pandas...\n",
      "finished in 1.79s\n",
      "\n",
      "culling 11 sites to those within extent...\n",
      "finished inventory in 1.83s\n",
      "\n"
     ]
    }
   ],
   "source": [
    "gw_field_sites = nwis.get_siteinfo('gwlevels')"
   ]
  },
  {
   "cell_type": "markdown",
   "metadata": {},
   "source": [
    "### daily values sites inventory table"
   ]
  },
  {
   "cell_type": "code",
   "execution_count": 4,
   "metadata": {},
   "outputs": [
    {
     "name": "stdout",
     "output_type": "stream",
     "text": [
      "getting site inventory for gwdv...\n",
      "url: http://nwis.waterdata.usgs.gov/usa/nwis/dv?referred_module=gw&site_tp_cd=GW&nw_longitude_va=-92.700&nw_latitude_va=46.800&se_longitude_va=-92.600&se_latitude_va=46.700&coordinate_format=decimal_degrees&group_key=NONE&format=sitefile_output&sitefile_output_format=rdb&column_name=site_no&column_name=station_nm&column_name=site_tp_cd&column_name=dec_lat_va&column_name=dec_long_va&column_name=coord_meth_cd&column_name=coord_acy_cd&column_name=coord_datum_cd&column_name=dec_coord_datum_cd&column_name=district_cd&column_name=state_cd&column_name=county_cd&column_name=country_cd&column_name=land_net_ds&column_name=map_nm&column_name=map_scale_fc&column_name=alt_va&column_name=alt_meth_cd&column_name=alt_acy_va&column_name=alt_datum_cd&column_name=huc_cd&column_name=basin_cd&column_name=topo_cd&column_name=data_types_cd&column_name=instruments_cd&column_name=construction_dt&column_name=inventory_dt&column_name=tz_cd&column_name=local_time_fg&column_name=reliability_cd&column_name=gw_file_cd&column_name=nat_aqfr_cd&column_name=aqfr_cd&column_name=aqfr_type_cd&column_name=well_depth_va&column_name=hole_depth_va&column_name=depth_src_cd&column_name=project_no&column_name=rt_bol&column_name=peak_begin_date&column_name=peak_end_date&column_name=peak_count_nu&column_name=qw_begin_date&column_name=qw_end_date&column_name=qw_count_nu&column_name=gw_begin_date&column_name=gw_end_date&column_name=gw_count_nu&column_name=sv_begin_date&column_name=sv_end_date&column_name=sv_count_nu&date_format=YYYY-MM-DD&rdb_compression=file&list_of_search_criteria=lat_long_bounding_box\n",
      "reading data with pandas...\n",
      "finished in 1.59s\n",
      "\n",
      "culling 2 sites to those within extent...\n",
      "finished inventory in 1.63s\n",
      "\n"
     ]
    }
   ],
   "source": [
    "gwdv_sites = nwis.get_siteinfo('gwdv')"
   ]
  },
  {
   "cell_type": "markdown",
   "metadata": {},
   "source": [
    "### write shapefiles of the inventory tables\n",
    "* `shapely Points` were created from the lat/lon coordinates when the tables were assembled; these are used to write the feature geometries for the shapefiles"
   ]
  },
  {
   "cell_type": "code",
   "execution_count": 5,
   "metadata": {},
   "outputs": [
    {
     "name": "stdout",
     "output_type": "stream",
     "text": [
      "writing gw_dv_sites.shp...\n",
      "writing gw_misc_sites.shp...\n"
     ]
    }
   ],
   "source": [
    "df2shp(gwdv_sites, 'gw_dv_sites.shp', epsg=4269)\n",
    "df2shp(gw_field_sites, 'gw_misc_sites.shp', epsg=4269)"
   ]
  },
  {
   "cell_type": "markdown",
   "metadata": {},
   "source": [
    "### get daily values for a list of sites"
   ]
  },
  {
   "cell_type": "code",
   "execution_count": 6,
   "metadata": {},
   "outputs": [
    {
     "data": {
      "text/plain": [
       "[464222092403801, 464322092401401]"
      ]
     },
     "execution_count": 6,
     "metadata": {},
     "output_type": "execute_result"
    }
   ],
   "source": [
    "sites = gwdv_sites.site_no.tolist()[0:2]\n",
    "sites"
   ]
  },
  {
   "cell_type": "code",
   "execution_count": 7,
   "metadata": {},
   "outputs": [
    {
     "name": "stdout",
     "output_type": "stream",
     "text": [
      "http://waterservices.usgs.gov/nwis/dv/?format=rdb&sites=464222092403801&startDT=1990-01-01&parameterCd=72019\n",
      "http://waterservices.usgs.gov/nwis/dv/?format=rdb&sites=464322092401401&startDT=1990-01-01&parameterCd=72019\n"
     ]
    },
    {
     "data": {
      "text/plain": [
       "dict_keys([464222092403801, 464322092401401])"
      ]
     },
     "execution_count": 7,
     "metadata": {},
     "output_type": "execute_result"
    }
   ],
   "source": [
    "dvs = nwis.get_all_dvs(sites, 'gwlevels', start_date='1990-01-01')\n",
    "dvs.keys()"
   ]
  },
  {
   "cell_type": "code",
   "execution_count": 8,
   "metadata": {},
   "outputs": [
    {
     "data": {
      "text/html": [
       "<div>\n",
       "<style scoped>\n",
       "    .dataframe tbody tr th:only-of-type {\n",
       "        vertical-align: middle;\n",
       "    }\n",
       "\n",
       "    .dataframe tbody tr th {\n",
       "        vertical-align: top;\n",
       "    }\n",
       "\n",
       "    .dataframe thead th {\n",
       "        text-align: right;\n",
       "    }\n",
       "</style>\n",
       "<table border=\"1\" class=\"dataframe\">\n",
       "  <thead>\n",
       "    <tr style=\"text-align: right;\">\n",
       "      <th></th>\n",
       "      <th>agency_cd</th>\n",
       "      <th>site_no</th>\n",
       "      <th>datetime</th>\n",
       "      <th>74007_72019_00003</th>\n",
       "      <th>74007_72019_00003_cd</th>\n",
       "    </tr>\n",
       "    <tr>\n",
       "      <th>datetime</th>\n",
       "      <th></th>\n",
       "      <th></th>\n",
       "      <th></th>\n",
       "      <th></th>\n",
       "      <th></th>\n",
       "    </tr>\n",
       "  </thead>\n",
       "  <tbody>\n",
       "    <tr>\n",
       "      <th>2006-07-01</th>\n",
       "      <td>USGS</td>\n",
       "      <td>464222092403801</td>\n",
       "      <td>2006-07-01</td>\n",
       "      <td>8.48</td>\n",
       "      <td>A</td>\n",
       "    </tr>\n",
       "    <tr>\n",
       "      <th>2006-07-02</th>\n",
       "      <td>USGS</td>\n",
       "      <td>464222092403801</td>\n",
       "      <td>2006-07-02</td>\n",
       "      <td>8.51</td>\n",
       "      <td>A</td>\n",
       "    </tr>\n",
       "    <tr>\n",
       "      <th>2006-07-03</th>\n",
       "      <td>USGS</td>\n",
       "      <td>464222092403801</td>\n",
       "      <td>2006-07-03</td>\n",
       "      <td>8.54</td>\n",
       "      <td>A</td>\n",
       "    </tr>\n",
       "    <tr>\n",
       "      <th>2006-07-04</th>\n",
       "      <td>USGS</td>\n",
       "      <td>464222092403801</td>\n",
       "      <td>2006-07-04</td>\n",
       "      <td>8.56</td>\n",
       "      <td>A</td>\n",
       "    </tr>\n",
       "    <tr>\n",
       "      <th>2006-07-05</th>\n",
       "      <td>USGS</td>\n",
       "      <td>464222092403801</td>\n",
       "      <td>2006-07-05</td>\n",
       "      <td>8.59</td>\n",
       "      <td>A</td>\n",
       "    </tr>\n",
       "  </tbody>\n",
       "</table>\n",
       "</div>"
      ],
      "text/plain": [
       "           agency_cd          site_no    datetime  74007_72019_00003  \\\n",
       "datetime                                                               \n",
       "2006-07-01      USGS  464222092403801  2006-07-01               8.48   \n",
       "2006-07-02      USGS  464222092403801  2006-07-02               8.51   \n",
       "2006-07-03      USGS  464222092403801  2006-07-03               8.54   \n",
       "2006-07-04      USGS  464222092403801  2006-07-04               8.56   \n",
       "2006-07-05      USGS  464222092403801  2006-07-05               8.59   \n",
       "\n",
       "           74007_72019_00003_cd  \n",
       "datetime                         \n",
       "2006-07-01                    A  \n",
       "2006-07-02                    A  \n",
       "2006-07-03                    A  \n",
       "2006-07-04                    A  \n",
       "2006-07-05                    A  "
      ]
     },
     "execution_count": 8,
     "metadata": {},
     "output_type": "execute_result"
    }
   ],
   "source": [
    "dvs[464222092403801].head()"
   ]
  },
  {
   "cell_type": "code",
   "execution_count": 9,
   "metadata": {},
   "outputs": [
    {
     "data": {
      "image/png": "[encoded data removed]",
      "text/plain": [
       "<Figure size 432x288 with 1 Axes>"
      ]
     },
     "metadata": {
      "needs_background": "light"
     },
     "output_type": "display_data"
    }
   ],
   "source": [
    "ax = dvs[464222092403801]['74007_72019_00003'].plot()"
   ]
  },
  {
   "cell_type": "markdown",
   "metadata": {},
   "source": [
    "### get a single site"
   ]
  },
  {
   "cell_type": "code",
   "execution_count": 10,
   "metadata": {},
   "outputs": [
    {
     "name": "stdout",
     "output_type": "stream",
     "text": [
      "http://waterservices.usgs.gov/nwis/dv/?format=rdb&sites=464322092401401&startDT=1880-01-01&parameterCd=72019\n"
     ]
    },
    {
     "data": {
      "text/html": [
       "<div>\n",
       "<style scoped>\n",
       "    .dataframe tbody tr th:only-of-type {\n",
       "        vertical-align: middle;\n",
       "    }\n",
       "\n",
       "    .dataframe tbody tr th {\n",
       "        vertical-align: top;\n",
       "    }\n",
       "\n",
       "    .dataframe thead th {\n",
       "        text-align: right;\n",
       "    }\n",
       "</style>\n",
       "<table border=\"1\" class=\"dataframe\">\n",
       "  <thead>\n",
       "    <tr style=\"text-align: right;\">\n",
       "      <th></th>\n",
       "      <th>agency_cd</th>\n",
       "      <th>site_no</th>\n",
       "      <th>datetime</th>\n",
       "      <th>74012_72019_00003</th>\n",
       "      <th>74012_72019_00003_cd</th>\n",
       "    </tr>\n",
       "    <tr>\n",
       "      <th>datetime</th>\n",
       "      <th></th>\n",
       "      <th></th>\n",
       "      <th></th>\n",
       "      <th></th>\n",
       "      <th></th>\n",
       "    </tr>\n",
       "  </thead>\n",
       "  <tbody>\n",
       "    <tr>\n",
       "      <th>2006-07-01</th>\n",
       "      <td>USGS</td>\n",
       "      <td>464322092401401</td>\n",
       "      <td>2006-07-01</td>\n",
       "      <td>5.06</td>\n",
       "      <td>A</td>\n",
       "    </tr>\n",
       "    <tr>\n",
       "      <th>2006-07-02</th>\n",
       "      <td>USGS</td>\n",
       "      <td>464322092401401</td>\n",
       "      <td>2006-07-02</td>\n",
       "      <td>5.10</td>\n",
       "      <td>A</td>\n",
       "    </tr>\n",
       "    <tr>\n",
       "      <th>2006-07-03</th>\n",
       "      <td>USGS</td>\n",
       "      <td>464322092401401</td>\n",
       "      <td>2006-07-03</td>\n",
       "      <td>5.12</td>\n",
       "      <td>A</td>\n",
       "    </tr>\n",
       "    <tr>\n",
       "      <th>2006-07-04</th>\n",
       "      <td>USGS</td>\n",
       "      <td>464322092401401</td>\n",
       "      <td>2006-07-04</td>\n",
       "      <td>5.15</td>\n",
       "      <td>A</td>\n",
       "    </tr>\n",
       "    <tr>\n",
       "      <th>2006-07-05</th>\n",
       "      <td>USGS</td>\n",
       "      <td>464322092401401</td>\n",
       "      <td>2006-07-05</td>\n",
       "      <td>5.19</td>\n",
       "      <td>A</td>\n",
       "    </tr>\n",
       "  </tbody>\n",
       "</table>\n",
       "</div>"
      ],
      "text/plain": [
       "           agency_cd          site_no    datetime  74012_72019_00003  \\\n",
       "datetime                                                               \n",
       "2006-07-01      USGS  464322092401401  2006-07-01               5.06   \n",
       "2006-07-02      USGS  464322092401401  2006-07-02               5.10   \n",
       "2006-07-03      USGS  464322092401401  2006-07-03               5.12   \n",
       "2006-07-04      USGS  464322092401401  2006-07-04               5.15   \n",
       "2006-07-05      USGS  464322092401401  2006-07-05               5.19   \n",
       "\n",
       "           74012_72019_00003_cd  \n",
       "datetime                         \n",
       "2006-07-01                    A  \n",
       "2006-07-02                    A  \n",
       "2006-07-03                    A  \n",
       "2006-07-04                    A  \n",
       "2006-07-05                    A  "
      ]
     },
     "execution_count": 10,
     "metadata": {},
     "output_type": "execute_result"
    }
   ],
   "source": [
    "df = nwis.get_dvs(464322092401401, 'gwlevels')\n",
    "df.head()"
   ]
  },
  {
   "cell_type": "markdown",
   "metadata": {},
   "source": [
    "### just get the url for dvs for a site\n",
    "(`start_date` is 1880-01-01 by default; `end_date` is `None` by default)"
   ]
  },
  {
   "cell_type": "code",
   "execution_count": 11,
   "metadata": {},
   "outputs": [
    {
     "name": "stdout",
     "output_type": "stream",
     "text": [
      "http://waterservices.usgs.gov/nwis/dv/?format=rdb&sites=464322092401401&startDT=1880-01-01&parameterCd=72019\n"
     ]
    },
    {
     "data": {
      "text/plain": [
       "'http://waterservices.usgs.gov/nwis/dv/?format=rdb&sites=464322092401401&startDT=1880-01-01&parameterCd=72019'"
      ]
     },
     "execution_count": 11,
     "metadata": {},
     "output_type": "execute_result"
    }
   ],
   "source": [
    "url = nwis.make_dv_url(464322092401401, parameter_code=72019)\n",
    "url"
   ]
  },
  {
   "cell_type": "markdown",
   "metadata": {},
   "source": [
    "## Fetch some miscellaneous measurements"
   ]
  },
  {
   "cell_type": "code",
   "execution_count": 12,
   "metadata": {},
   "outputs": [
    {
     "data": {
      "text/plain": [
       "[464205092364101,\n",
       " 464205092371801,\n",
       " 464222092403801,\n",
       " 464244092372701,\n",
       " 464321092402301]"
      ]
     },
     "execution_count": 12,
     "metadata": {},
     "output_type": "execute_result"
    }
   ],
   "source": [
    "sites = gw_field_sites.site_no.tolist()[:5]\n",
    "sites"
   ]
  },
  {
   "cell_type": "code",
   "execution_count": 13,
   "metadata": {},
   "outputs": [
    {
     "name": "stdout",
     "output_type": "stream",
     "text": [
      "464205092364101\n",
      "http://nwis.waterdata.usgs.gov/nwis/gwlevels?site_no=464205092364101&agency_cd=USGS&format=rdb\n",
      "no data returned.\n",
      "464205092371801\n",
      "http://nwis.waterdata.usgs.gov/nwis/gwlevels?site_no=464205092371801&agency_cd=USGS&format=rdb\n",
      "no data returned.\n",
      "464222092403801\n",
      "http://nwis.waterdata.usgs.gov/nwis/gwlevels?site_no=464222092403801&agency_cd=USGS&format=rdb\n",
      "464244092372701\n",
      "http://nwis.waterdata.usgs.gov/nwis/gwlevels?site_no=464244092372701&agency_cd=USGS&format=rdb\n",
      "no data returned.\n",
      "464321092402301\n",
      "http://nwis.waterdata.usgs.gov/nwis/gwlevels?site_no=464321092402301&agency_cd=USGS&format=rdb\n"
     ]
    }
   ],
   "source": [
    "fm = nwis.get_all_measurements(sites, txt='gwlevels')"
   ]
  },
  {
   "cell_type": "code",
   "execution_count": 14,
   "metadata": {},
   "outputs": [
    {
     "data": {
      "text/html": [
       "<div>\n",
       "<style scoped>\n",
       "    .dataframe tbody tr th:only-of-type {\n",
       "        vertical-align: middle;\n",
       "    }\n",
       "\n",
       "    .dataframe tbody tr th {\n",
       "        vertical-align: top;\n",
       "    }\n",
       "\n",
       "    .dataframe thead th {\n",
       "        text-align: right;\n",
       "    }\n",
       "</style>\n",
       "<table border=\"1\" class=\"dataframe\">\n",
       "  <thead>\n",
       "    <tr style=\"text-align: right;\">\n",
       "      <th></th>\n",
       "      <th></th>\n",
       "      <th>agency_cd</th>\n",
       "      <th>site_no</th>\n",
       "      <th>site_tp_cd</th>\n",
       "      <th>lev_dt</th>\n",
       "      <th>lev_tm</th>\n",
       "      <th>lev_tz_cd</th>\n",
       "      <th>lev_va</th>\n",
       "      <th>sl_lev_va</th>\n",
       "      <th>sl_datum_cd</th>\n",
       "      <th>lev_status_cd</th>\n",
       "      <th>lev_agency_cd</th>\n",
       "      <th>lev_dt_acy_cd</th>\n",
       "      <th>lev_acy_cd</th>\n",
       "      <th>lev_src_cd</th>\n",
       "      <th>lev_meth_cd</th>\n",
       "      <th>lev_age_cd</th>\n",
       "      <th>measurement_dt</th>\n",
       "    </tr>\n",
       "    <tr>\n",
       "      <th>site_no</th>\n",
       "      <th>datetime</th>\n",
       "      <th></th>\n",
       "      <th></th>\n",
       "      <th></th>\n",
       "      <th></th>\n",
       "      <th></th>\n",
       "      <th></th>\n",
       "      <th></th>\n",
       "      <th></th>\n",
       "      <th></th>\n",
       "      <th></th>\n",
       "      <th></th>\n",
       "      <th></th>\n",
       "      <th></th>\n",
       "      <th></th>\n",
       "      <th></th>\n",
       "      <th></th>\n",
       "      <th></th>\n",
       "    </tr>\n",
       "  </thead>\n",
       "  <tbody>\n",
       "    <tr>\n",
       "      <th rowspan=\"5\" valign=\"top\">464222092403801</th>\n",
       "      <th>2006-06-01</th>\n",
       "      <td>USGS</td>\n",
       "      <td>464222092403801</td>\n",
       "      <td>GW</td>\n",
       "      <td>2006-06-01</td>\n",
       "      <td>15:34</td>\n",
       "      <td>CDT</td>\n",
       "      <td>7.59</td>\n",
       "      <td>NaN</td>\n",
       "      <td>NaN</td>\n",
       "      <td>NaN</td>\n",
       "      <td>USGS</td>\n",
       "      <td>m</td>\n",
       "      <td>2</td>\n",
       "      <td>S</td>\n",
       "      <td>V</td>\n",
       "      <td>A</td>\n",
       "      <td>2006-06-01</td>\n",
       "    </tr>\n",
       "    <tr>\n",
       "      <th>2006-06-23</th>\n",
       "      <td>USGS</td>\n",
       "      <td>464222092403801</td>\n",
       "      <td>GW</td>\n",
       "      <td>2006-06-23</td>\n",
       "      <td>07:58</td>\n",
       "      <td>CDT</td>\n",
       "      <td>8.30</td>\n",
       "      <td>NaN</td>\n",
       "      <td>NaN</td>\n",
       "      <td>NaN</td>\n",
       "      <td>USGS</td>\n",
       "      <td>m</td>\n",
       "      <td>2</td>\n",
       "      <td>S</td>\n",
       "      <td>V</td>\n",
       "      <td>A</td>\n",
       "      <td>2006-06-23</td>\n",
       "    </tr>\n",
       "    <tr>\n",
       "      <th>2006-06-30</th>\n",
       "      <td>USGS</td>\n",
       "      <td>464222092403801</td>\n",
       "      <td>GW</td>\n",
       "      <td>2006-06-30</td>\n",
       "      <td>12:37</td>\n",
       "      <td>CDT</td>\n",
       "      <td>8.46</td>\n",
       "      <td>NaN</td>\n",
       "      <td>NaN</td>\n",
       "      <td>NaN</td>\n",
       "      <td>USGS</td>\n",
       "      <td>m</td>\n",
       "      <td>2</td>\n",
       "      <td>S</td>\n",
       "      <td>V</td>\n",
       "      <td>A</td>\n",
       "      <td>2006-06-30</td>\n",
       "    </tr>\n",
       "    <tr>\n",
       "      <th>2006-07-21</th>\n",
       "      <td>USGS</td>\n",
       "      <td>464222092403801</td>\n",
       "      <td>GW</td>\n",
       "      <td>2006-07-21</td>\n",
       "      <td>07:34</td>\n",
       "      <td>CDT</td>\n",
       "      <td>8.90</td>\n",
       "      <td>NaN</td>\n",
       "      <td>NaN</td>\n",
       "      <td>NaN</td>\n",
       "      <td>USGS</td>\n",
       "      <td>m</td>\n",
       "      <td>2</td>\n",
       "      <td>S</td>\n",
       "      <td>V</td>\n",
       "      <td>A</td>\n",
       "      <td>2006-07-21</td>\n",
       "    </tr>\n",
       "    <tr>\n",
       "      <th>2006-08-31</th>\n",
       "      <td>USGS</td>\n",
       "      <td>464222092403801</td>\n",
       "      <td>GW</td>\n",
       "      <td>2006-08-31</td>\n",
       "      <td>10:09</td>\n",
       "      <td>CDT</td>\n",
       "      <td>9.09</td>\n",
       "      <td>NaN</td>\n",
       "      <td>NaN</td>\n",
       "      <td>NaN</td>\n",
       "      <td>USGS</td>\n",
       "      <td>m</td>\n",
       "      <td>2</td>\n",
       "      <td>S</td>\n",
       "      <td>V</td>\n",
       "      <td>A</td>\n",
       "      <td>2006-08-31</td>\n",
       "    </tr>\n",
       "  </tbody>\n",
       "</table>\n",
       "</div>"
      ],
      "text/plain": [
       "                           agency_cd          site_no site_tp_cd      lev_dt  \\\n",
       "site_no         datetime                                                       \n",
       "464222092403801 2006-06-01      USGS  464222092403801         GW  2006-06-01   \n",
       "                2006-06-23      USGS  464222092403801         GW  2006-06-23   \n",
       "                2006-06-30      USGS  464222092403801         GW  2006-06-30   \n",
       "                2006-07-21      USGS  464222092403801         GW  2006-07-21   \n",
       "                2006-08-31      USGS  464222092403801         GW  2006-08-31   \n",
       "\n",
       "                           lev_tm lev_tz_cd  lev_va  sl_lev_va  sl_datum_cd  \\\n",
       "site_no         datetime                                                      \n",
       "464222092403801 2006-06-01  15:34       CDT    7.59        NaN          NaN   \n",
       "                2006-06-23  07:58       CDT    8.30        NaN          NaN   \n",
       "                2006-06-30  12:37       CDT    8.46        NaN          NaN   \n",
       "                2006-07-21  07:34       CDT    8.90        NaN          NaN   \n",
       "                2006-08-31  10:09       CDT    9.09        NaN          NaN   \n",
       "\n",
       "                            lev_status_cd lev_agency_cd lev_dt_acy_cd  \\\n",
       "site_no         datetime                                                \n",
       "464222092403801 2006-06-01            NaN          USGS             m   \n",
       "                2006-06-23            NaN          USGS             m   \n",
       "                2006-06-30            NaN          USGS             m   \n",
       "                2006-07-21            NaN          USGS             m   \n",
       "                2006-08-31            NaN          USGS             m   \n",
       "\n",
       "                            lev_acy_cd lev_src_cd lev_meth_cd lev_age_cd  \\\n",
       "site_no         datetime                                                   \n",
       "464222092403801 2006-06-01           2          S           V          A   \n",
       "                2006-06-23           2          S           V          A   \n",
       "                2006-06-30           2          S           V          A   \n",
       "                2006-07-21           2          S           V          A   \n",
       "                2006-08-31           2          S           V          A   \n",
       "\n",
       "                           measurement_dt  \n",
       "site_no         datetime                   \n",
       "464222092403801 2006-06-01     2006-06-01  \n",
       "                2006-06-23     2006-06-23  \n",
       "                2006-06-30     2006-06-30  \n",
       "                2006-07-21     2006-07-21  \n",
       "                2006-08-31     2006-08-31  "
      ]
     },
     "execution_count": 14,
     "metadata": {},
     "output_type": "execute_result"
    }
   ],
   "source": [
    "fm.head()"
   ]
  },
  {
   "cell_type": "code",
   "execution_count": null,
   "metadata": {},
   "outputs": [],
   "source": []
  }
 ],
 "metadata": {
  "anaconda-cloud": {},
  "kernelspec": {
   "display_name": "Python 3",
   "language": "python",
   "name": "python3"
  },
  "language_info": {
   "codemirror_mode": {
    "name": "ipython",
    "version": 3
   },
   "file_extension": ".py",
   "mimetype": "text/x-python",
   "name": "python",
   "nbconvert_exporter": "python",
   "pygments_lexer": "ipython3",
   "version": "3.8.2"
  }
 },
 "nbformat": 4,
 "nbformat_minor": 1
}
