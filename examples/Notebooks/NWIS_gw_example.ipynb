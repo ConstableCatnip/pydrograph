{
 "cells": [
  {
   "cell_type": "code",
   "execution_count": 1,
   "metadata": {},
   "outputs": [],
   "source": [
    "import numpy as np\n",
    "import pandas as pd\n",
    "import matplotlib.pyplot as plt\n",
    "from matplotlib.backends.backend_pdf import PdfPages\n",
    "import fiona\n",
    "from shapely.geometry import Point, shape\n",
    "from gisutils import df2shp, project\n",
    "from pydrograph import Nwis"
   ]
  },
  {
   "cell_type": "markdown",
   "metadata": {},
   "source": [
    "### shapefile of study area"
   ]
  },
  {
   "cell_type": "code",
   "execution_count": 2,
   "metadata": {},
   "outputs": [],
   "source": [
    "# input files\n",
    "extent_shp = '../data/bbox.shp' # polygon of study area\n",
    "epsg = 26915"
   ]
  },
  {
   "cell_type": "markdown",
   "metadata": {},
   "source": [
    "### reproject the study area polygon to lat/lon"
   ]
  },
  {
   "cell_type": "code",
   "execution_count": 3,
   "metadata": {},
   "outputs": [
    {
     "name": "stderr",
     "output_type": "stream",
     "text": [
      "<ipython-input-3-aaca4be80a80>:1: FionaDeprecationWarning: Collection.__next__() is buggy and will be removed in Fiona 2.0. Switch to `next(iter(collection))`.\n",
      "  extent_poly = shape(fiona.open(extent_shp).next()['geometry'])\n",
      "/Users/aleaf/anaconda3/envs/gis/lib/python3.8/site-packages/pyproj/crs.py:422: FutureWarning: '+init=<authority>:<code>' syntax is deprecated. '<authority>:<code>' is the preferred initialization method.\n",
      "  projstring = _prepare_from_string(projparams)\n"
     ]
    },
    {
     "data": {
      "text/plain": [
       "(-92.7, 46.7, -92.6, 46.79999999999999)"
      ]
     },
     "execution_count": 3,
     "metadata": {},
     "output_type": "execute_result"
    }
   ],
   "source": [
    "extent_poly = shape(fiona.open(extent_shp).next()['geometry'])\n",
    "extent_poly_ll = project(extent_poly, \"+init=epsg:{}\".format(epsg), \"+init=epsg:4269\")\n",
    "extent_poly_ll.bounds"
   ]
  },
  {
   "cell_type": "code",
   "execution_count": 4,
   "metadata": {},
   "outputs": [
    {
     "data": {
      "image/svg+xml": [
       "<svg xmlns=\"http://www.w3.org/2000/svg\" xmlns:xlink=\"http://www.w3.org/1999/xlink\" width=\"100.0\" height=\"100.0\" viewBox=\"-92.70400000000001 46.696000000000005 0.1080000000000183 0.10799999999998278\" preserveAspectRatio=\"xMinYMin meet\"><g transform=\"matrix(1,0,0,-1,0,93.5)\"><path fill-rule=\"evenodd\" fill=\"#66cc99\" stroke=\"#555555\" stroke-width=\"0.002160000000000366\" opacity=\"0.6\" d=\"M -92.6,46.7 L -92.7,46.70000000000001 L -92.7,46.79999999999999 L -92.6,46.79999999999998 L -92.6,46.7 z\" /></g></svg>"
      ],
      "text/plain": [
       "<shapely.geometry.polygon.Polygon at 0x104ca8550>"
      ]
     },
     "execution_count": 4,
     "metadata": {},
     "output_type": "execute_result"
    }
   ],
   "source": [
    "extent_poly_ll"
   ]
  },
  {
   "cell_type": "markdown",
   "metadata": {},
   "source": [
    "### instantiate NWIS object using polygon\n",
    "* fetches inventory tables of all dv and misc field measurements within the polygon\n",
    "* `get_gw_sites` and `get_sw_sites` fetches all daily values and field measurements for groundwater and surface water (default=True)"
   ]
  },
  {
   "cell_type": "code",
   "execution_count": 5,
   "metadata": {},
   "outputs": [
    {
     "name": "stdout",
     "output_type": "stream",
     "text": [
      "Fetching site info...\n"
     ]
    }
   ],
   "source": [
    "nwis = Nwis(extent=extent_poly_ll, get_sw_sites=False)"
   ]
  },
  {
   "cell_type": "markdown",
   "metadata": {},
   "source": [
    "### field measurements inventory table"
   ]
  },
  {
   "cell_type": "code",
   "execution_count": 6,
   "metadata": {},
   "outputs": [
    {
     "data": {
      "text/html": [
       "<div>\n",
       "<style scoped>\n",
       "    .dataframe tbody tr th:only-of-type {\n",
       "        vertical-align: middle;\n",
       "    }\n",
       "\n",
       "    .dataframe tbody tr th {\n",
       "        vertical-align: top;\n",
       "    }\n",
       "\n",
       "    .dataframe thead th {\n",
       "        text-align: right;\n",
       "    }\n",
       "</style>\n",
       "<table border=\"1\" class=\"dataframe\">\n",
       "  <thead>\n",
       "    <tr style=\"text-align: right;\">\n",
       "      <th></th>\n",
       "      <th>site_no</th>\n",
       "      <th>station_nm</th>\n",
       "      <th>site_tp_cd</th>\n",
       "      <th>dec_lat_va</th>\n",
       "      <th>dec_long_va</th>\n",
       "      <th>coord_meth_cd</th>\n",
       "      <th>coord_acy_cd</th>\n",
       "      <th>coord_datum_cd</th>\n",
       "      <th>dec_coord_datum_cd</th>\n",
       "      <th>district_cd</th>\n",
       "      <th>...</th>\n",
       "      <th>qw_begin_date</th>\n",
       "      <th>qw_end_date</th>\n",
       "      <th>qw_count_nu</th>\n",
       "      <th>gw_begin_date</th>\n",
       "      <th>gw_end_date</th>\n",
       "      <th>gw_count_nu</th>\n",
       "      <th>sv_begin_date</th>\n",
       "      <th>sv_end_date</th>\n",
       "      <th>sv_count_nu</th>\n",
       "      <th>geometry</th>\n",
       "    </tr>\n",
       "    <tr>\n",
       "      <th>site_no</th>\n",
       "      <th></th>\n",
       "      <th></th>\n",
       "      <th></th>\n",
       "      <th></th>\n",
       "      <th></th>\n",
       "      <th></th>\n",
       "      <th></th>\n",
       "      <th></th>\n",
       "      <th></th>\n",
       "      <th></th>\n",
       "      <th></th>\n",
       "      <th></th>\n",
       "      <th></th>\n",
       "      <th></th>\n",
       "      <th></th>\n",
       "      <th></th>\n",
       "      <th></th>\n",
       "      <th></th>\n",
       "      <th></th>\n",
       "      <th></th>\n",
       "      <th></th>\n",
       "    </tr>\n",
       "  </thead>\n",
       "  <tbody>\n",
       "    <tr>\n",
       "      <th>464205092364101</th>\n",
       "      <td>464205092364101</td>\n",
       "      <td>049N18W27BDC   01             000052...</td>\n",
       "      <td>GW</td>\n",
       "      <td>46.701334</td>\n",
       "      <td>-92.611582</td>\n",
       "      <td>M</td>\n",
       "      <td>S</td>\n",
       "      <td>NAD27</td>\n",
       "      <td>NAD83</td>\n",
       "      <td>27</td>\n",
       "      <td>...</td>\n",
       "      <td>--</td>\n",
       "      <td>--</td>\n",
       "      <td>0</td>\n",
       "      <td>1993-04-28</td>\n",
       "      <td>1993-04-28</td>\n",
       "      <td>1</td>\n",
       "      <td>--</td>\n",
       "      <td>--</td>\n",
       "      <td>0</td>\n",
       "      <td>POINT (-92.6115824 46.70133378)</td>\n",
       "    </tr>\n",
       "    <tr>\n",
       "      <th>464205092371801</th>\n",
       "      <td>464205092371801</td>\n",
       "      <td>049N18W28ADC   01             000011...</td>\n",
       "      <td>GW</td>\n",
       "      <td>46.701334</td>\n",
       "      <td>-92.621860</td>\n",
       "      <td>M</td>\n",
       "      <td>S</td>\n",
       "      <td>NAD27</td>\n",
       "      <td>NAD83</td>\n",
       "      <td>27</td>\n",
       "      <td>...</td>\n",
       "      <td>--</td>\n",
       "      <td>--</td>\n",
       "      <td>0</td>\n",
       "      <td>1985-04-25</td>\n",
       "      <td>1985-04-25</td>\n",
       "      <td>1</td>\n",
       "      <td>--</td>\n",
       "      <td>--</td>\n",
       "      <td>0</td>\n",
       "      <td>POINT (-92.6218605 46.70133387)</td>\n",
       "    </tr>\n",
       "    <tr>\n",
       "      <th>464222092403801</th>\n",
       "      <td>464222092403801</td>\n",
       "      <td>FDLGWSW02 049N18W30BBDA  01 RicePortage 000068...</td>\n",
       "      <td>GW</td>\n",
       "      <td>46.706111</td>\n",
       "      <td>-92.677083</td>\n",
       "      <td>G</td>\n",
       "      <td>S</td>\n",
       "      <td>NAD83</td>\n",
       "      <td>NAD83</td>\n",
       "      <td>27</td>\n",
       "      <td>...</td>\n",
       "      <td>--</td>\n",
       "      <td>--</td>\n",
       "      <td>0</td>\n",
       "      <td>2006-06-01</td>\n",
       "      <td>2010-05-03</td>\n",
       "      <td>30</td>\n",
       "      <td>--</td>\n",
       "      <td>--</td>\n",
       "      <td>0</td>\n",
       "      <td>POINT (-92.67708330000001 46.7061111)</td>\n",
       "    </tr>\n",
       "    <tr>\n",
       "      <th>464244092372701</th>\n",
       "      <td>464244092372701</td>\n",
       "      <td>049N18W21DBD   01             000051...</td>\n",
       "      <td>GW</td>\n",
       "      <td>46.712167</td>\n",
       "      <td>-92.624360</td>\n",
       "      <td>M</td>\n",
       "      <td>S</td>\n",
       "      <td>NAD27</td>\n",
       "      <td>NAD83</td>\n",
       "      <td>27</td>\n",
       "      <td>...</td>\n",
       "      <td>--</td>\n",
       "      <td>--</td>\n",
       "      <td>0</td>\n",
       "      <td>1993-08-28</td>\n",
       "      <td>1993-08-28</td>\n",
       "      <td>1</td>\n",
       "      <td>--</td>\n",
       "      <td>--</td>\n",
       "      <td>0</td>\n",
       "      <td>POINT (-92.6243604 46.7121672)</td>\n",
       "    </tr>\n",
       "    <tr>\n",
       "      <th>464321092402301</th>\n",
       "      <td>464321092402301</td>\n",
       "      <td>FDLGWSW13 049N18W19BABA  01 W 1st Bridg 000068...</td>\n",
       "      <td>GW</td>\n",
       "      <td>46.722417</td>\n",
       "      <td>-92.673028</td>\n",
       "      <td>G</td>\n",
       "      <td>F</td>\n",
       "      <td>NAD83</td>\n",
       "      <td>NAD83</td>\n",
       "      <td>27</td>\n",
       "      <td>...</td>\n",
       "      <td>--</td>\n",
       "      <td>--</td>\n",
       "      <td>0</td>\n",
       "      <td>2007-06-05</td>\n",
       "      <td>2010-05-03</td>\n",
       "      <td>18</td>\n",
       "      <td>--</td>\n",
       "      <td>--</td>\n",
       "      <td>0</td>\n",
       "      <td>POINT (-92.6730278 46.72241667)</td>\n",
       "    </tr>\n",
       "  </tbody>\n",
       "</table>\n",
       "<p>5 rows × 52 columns</p>\n",
       "</div>"
      ],
      "text/plain": [
       "                         site_no  \\\n",
       "site_no                            \n",
       "464205092364101  464205092364101   \n",
       "464205092371801  464205092371801   \n",
       "464222092403801  464222092403801   \n",
       "464244092372701  464244092372701   \n",
       "464321092402301  464321092402301   \n",
       "\n",
       "                                                        station_nm site_tp_cd  \\\n",
       "site_no                                                                         \n",
       "464205092364101            049N18W27BDC   01             000052...         GW   \n",
       "464205092371801            049N18W28ADC   01             000011...         GW   \n",
       "464222092403801  FDLGWSW02 049N18W30BBDA  01 RicePortage 000068...         GW   \n",
       "464244092372701            049N18W21DBD   01             000051...         GW   \n",
       "464321092402301  FDLGWSW13 049N18W19BABA  01 W 1st Bridg 000068...         GW   \n",
       "\n",
       "                 dec_lat_va  dec_long_va coord_meth_cd coord_acy_cd  \\\n",
       "site_no                                                               \n",
       "464205092364101   46.701334   -92.611582             M            S   \n",
       "464205092371801   46.701334   -92.621860             M            S   \n",
       "464222092403801   46.706111   -92.677083             G            S   \n",
       "464244092372701   46.712167   -92.624360             M            S   \n",
       "464321092402301   46.722417   -92.673028             G            F   \n",
       "\n",
       "                coord_datum_cd dec_coord_datum_cd  district_cd  ...  \\\n",
       "site_no                                                         ...   \n",
       "464205092364101          NAD27              NAD83           27  ...   \n",
       "464205092371801          NAD27              NAD83           27  ...   \n",
       "464222092403801          NAD83              NAD83           27  ...   \n",
       "464244092372701          NAD27              NAD83           27  ...   \n",
       "464321092402301          NAD83              NAD83           27  ...   \n",
       "\n",
       "                 qw_begin_date  qw_end_date qw_count_nu gw_begin_date  \\\n",
       "site_no                                                                 \n",
       "464205092364101             --           --           0    1993-04-28   \n",
       "464205092371801             --           --           0    1985-04-25   \n",
       "464222092403801             --           --           0    2006-06-01   \n",
       "464244092372701             --           --           0    1993-08-28   \n",
       "464321092402301             --           --           0    2007-06-05   \n",
       "\n",
       "                gw_end_date  gw_count_nu  sv_begin_date sv_end_date  \\\n",
       "site_no                                                               \n",
       "464205092364101  1993-04-28            1             --          --   \n",
       "464205092371801  1985-04-25            1             --          --   \n",
       "464222092403801  2010-05-03           30             --          --   \n",
       "464244092372701  1993-08-28            1             --          --   \n",
       "464321092402301  2010-05-03           18             --          --   \n",
       "\n",
       "                 sv_count_nu                               geometry  \n",
       "site_no                                                              \n",
       "464205092364101            0        POINT (-92.6115824 46.70133378)  \n",
       "464205092371801            0        POINT (-92.6218605 46.70133387)  \n",
       "464222092403801            0  POINT (-92.67708330000001 46.7061111)  \n",
       "464244092372701            0         POINT (-92.6243604 46.7121672)  \n",
       "464321092402301            0        POINT (-92.6730278 46.72241667)  \n",
       "\n",
       "[5 rows x 52 columns]"
      ]
     },
     "execution_count": 6,
     "metadata": {},
     "output_type": "execute_result"
    }
   ],
   "source": [
    "nwis.gwfield_sites.head()"
   ]
  },
  {
   "cell_type": "markdown",
   "metadata": {},
   "source": [
    "### daily values sites inventory table"
   ]
  },
  {
   "cell_type": "code",
   "execution_count": 7,
   "metadata": {},
   "outputs": [
    {
     "data": {
      "text/html": [
       "<div>\n",
       "<style scoped>\n",
       "    .dataframe tbody tr th:only-of-type {\n",
       "        vertical-align: middle;\n",
       "    }\n",
       "\n",
       "    .dataframe tbody tr th {\n",
       "        vertical-align: top;\n",
       "    }\n",
       "\n",
       "    .dataframe thead th {\n",
       "        text-align: right;\n",
       "    }\n",
       "</style>\n",
       "<table border=\"1\" class=\"dataframe\">\n",
       "  <thead>\n",
       "    <tr style=\"text-align: right;\">\n",
       "      <th></th>\n",
       "      <th>site_no</th>\n",
       "      <th>station_nm</th>\n",
       "      <th>site_tp_cd</th>\n",
       "      <th>dec_lat_va</th>\n",
       "      <th>dec_long_va</th>\n",
       "      <th>coord_meth_cd</th>\n",
       "      <th>coord_acy_cd</th>\n",
       "      <th>coord_datum_cd</th>\n",
       "      <th>dec_coord_datum_cd</th>\n",
       "      <th>district_cd</th>\n",
       "      <th>...</th>\n",
       "      <th>qw_begin_date</th>\n",
       "      <th>qw_end_date</th>\n",
       "      <th>qw_count_nu</th>\n",
       "      <th>gw_begin_date</th>\n",
       "      <th>gw_end_date</th>\n",
       "      <th>gw_count_nu</th>\n",
       "      <th>sv_begin_date</th>\n",
       "      <th>sv_end_date</th>\n",
       "      <th>sv_count_nu</th>\n",
       "      <th>geometry</th>\n",
       "    </tr>\n",
       "    <tr>\n",
       "      <th>site_no</th>\n",
       "      <th></th>\n",
       "      <th></th>\n",
       "      <th></th>\n",
       "      <th></th>\n",
       "      <th></th>\n",
       "      <th></th>\n",
       "      <th></th>\n",
       "      <th></th>\n",
       "      <th></th>\n",
       "      <th></th>\n",
       "      <th></th>\n",
       "      <th></th>\n",
       "      <th></th>\n",
       "      <th></th>\n",
       "      <th></th>\n",
       "      <th></th>\n",
       "      <th></th>\n",
       "      <th></th>\n",
       "      <th></th>\n",
       "      <th></th>\n",
       "      <th></th>\n",
       "    </tr>\n",
       "  </thead>\n",
       "  <tbody>\n",
       "    <tr>\n",
       "      <th>464222092403801</th>\n",
       "      <td>464222092403801</td>\n",
       "      <td>FDLGWSW02 049N18W30BBDA  01 RicePortage 000068...</td>\n",
       "      <td>GW</td>\n",
       "      <td>46.706111</td>\n",
       "      <td>-92.677083</td>\n",
       "      <td>G</td>\n",
       "      <td>S</td>\n",
       "      <td>NAD83</td>\n",
       "      <td>NAD83</td>\n",
       "      <td>27</td>\n",
       "      <td>...</td>\n",
       "      <td>--</td>\n",
       "      <td>--</td>\n",
       "      <td>0</td>\n",
       "      <td>2006-06-01</td>\n",
       "      <td>2010-05-03</td>\n",
       "      <td>30</td>\n",
       "      <td>--</td>\n",
       "      <td>--</td>\n",
       "      <td>0</td>\n",
       "      <td>POINT (-92.67708330000001 46.7061111)</td>\n",
       "    </tr>\n",
       "    <tr>\n",
       "      <th>464322092401401</th>\n",
       "      <td>464322092401401</td>\n",
       "      <td>FDLGWSW01 049N18W18CDDD  01 1st Bridge  000068...</td>\n",
       "      <td>GW</td>\n",
       "      <td>46.722750</td>\n",
       "      <td>-92.670417</td>\n",
       "      <td>G</td>\n",
       "      <td>S</td>\n",
       "      <td>NAD83</td>\n",
       "      <td>NAD83</td>\n",
       "      <td>27</td>\n",
       "      <td>...</td>\n",
       "      <td>--</td>\n",
       "      <td>--</td>\n",
       "      <td>0</td>\n",
       "      <td>2006-06-01</td>\n",
       "      <td>2010-05-03</td>\n",
       "      <td>32</td>\n",
       "      <td>--</td>\n",
       "      <td>--</td>\n",
       "      <td>0</td>\n",
       "      <td>POINT (-92.6704167 46.72275)</td>\n",
       "    </tr>\n",
       "  </tbody>\n",
       "</table>\n",
       "<p>2 rows × 52 columns</p>\n",
       "</div>"
      ],
      "text/plain": [
       "                         site_no  \\\n",
       "site_no                            \n",
       "464222092403801  464222092403801   \n",
       "464322092401401  464322092401401   \n",
       "\n",
       "                                                        station_nm site_tp_cd  \\\n",
       "site_no                                                                         \n",
       "464222092403801  FDLGWSW02 049N18W30BBDA  01 RicePortage 000068...         GW   \n",
       "464322092401401  FDLGWSW01 049N18W18CDDD  01 1st Bridge  000068...         GW   \n",
       "\n",
       "                 dec_lat_va  dec_long_va coord_meth_cd coord_acy_cd  \\\n",
       "site_no                                                               \n",
       "464222092403801   46.706111   -92.677083             G            S   \n",
       "464322092401401   46.722750   -92.670417             G            S   \n",
       "\n",
       "                coord_datum_cd dec_coord_datum_cd  district_cd  ...  \\\n",
       "site_no                                                         ...   \n",
       "464222092403801          NAD83              NAD83           27  ...   \n",
       "464322092401401          NAD83              NAD83           27  ...   \n",
       "\n",
       "                 qw_begin_date  qw_end_date qw_count_nu gw_begin_date  \\\n",
       "site_no                                                                 \n",
       "464222092403801             --           --           0    2006-06-01   \n",
       "464322092401401             --           --           0    2006-06-01   \n",
       "\n",
       "                gw_end_date  gw_count_nu  sv_begin_date sv_end_date  \\\n",
       "site_no                                                               \n",
       "464222092403801  2010-05-03           30             --          --   \n",
       "464322092401401  2010-05-03           32             --          --   \n",
       "\n",
       "                 sv_count_nu                               geometry  \n",
       "site_no                                                              \n",
       "464222092403801            0  POINT (-92.67708330000001 46.7061111)  \n",
       "464322092401401            0           POINT (-92.6704167 46.72275)  \n",
       "\n",
       "[2 rows x 52 columns]"
      ]
     },
     "execution_count": 7,
     "metadata": {},
     "output_type": "execute_result"
    }
   ],
   "source": [
    "nwis.gwdv_sites.head()"
   ]
  },
  {
   "cell_type": "markdown",
   "metadata": {},
   "source": [
    "### write shapefiles of the inventory tables\n",
    "* `shapely Points` were created from the lat/lon coordinates when the tables were assembled; these are used to write the feature geometries for the shapefiles"
   ]
  },
  {
   "cell_type": "code",
   "execution_count": 8,
   "metadata": {},
   "outputs": [
    {
     "name": "stdout",
     "output_type": "stream",
     "text": [
      "writing gw_dv_sites.shp...\n",
      "writing gw_misc_sites.shp...\n"
     ]
    }
   ],
   "source": [
    "df2shp(nwis.gwdv_sites, 'gw_dv_sites.shp', epsg=4269)\n",
    "df2shp(nwis.gwfield_sites, 'gw_misc_sites.shp', epsg=4269)"
   ]
  },
  {
   "cell_type": "markdown",
   "metadata": {},
   "source": [
    "### get daily values for a list of sites"
   ]
  },
  {
   "cell_type": "code",
   "execution_count": 9,
   "metadata": {},
   "outputs": [
    {
     "data": {
      "text/plain": [
       "[464222092403801, 464322092401401]"
      ]
     },
     "execution_count": 9,
     "metadata": {},
     "output_type": "execute_result"
    }
   ],
   "source": [
    "sites = nwis.gwdv_sites.site_no.tolist()[0:2]\n",
    "sites"
   ]
  },
  {
   "cell_type": "code",
   "execution_count": 10,
   "metadata": {},
   "outputs": [
    {
     "name": "stdout",
     "output_type": "stream",
     "text": [
      "http://waterservices.usgs.gov/nwis/dv/?format=rdb&sites=464222092403801&startDT=1990-01-01&parameterCd=72019\n",
      "http://waterservices.usgs.gov/nwis/dv/?format=rdb&sites=464322092401401&startDT=1990-01-01&parameterCd=72019\n"
     ]
    },
    {
     "data": {
      "text/plain": [
       "dict_keys([464222092403801, 464322092401401])"
      ]
     },
     "execution_count": 10,
     "metadata": {},
     "output_type": "execute_result"
    }
   ],
   "source": [
    "dvs = nwis.get_all_dvs(sites, 'gwlevels', start_date='1990-01-01')\n",
    "dvs.keys()"
   ]
  },
  {
   "cell_type": "code",
   "execution_count": 11,
   "metadata": {},
   "outputs": [
    {
     "data": {
      "text/html": [
       "<div>\n",
       "<style scoped>\n",
       "    .dataframe tbody tr th:only-of-type {\n",
       "        vertical-align: middle;\n",
       "    }\n",
       "\n",
       "    .dataframe tbody tr th {\n",
       "        vertical-align: top;\n",
       "    }\n",
       "\n",
       "    .dataframe thead th {\n",
       "        text-align: right;\n",
       "    }\n",
       "</style>\n",
       "<table border=\"1\" class=\"dataframe\">\n",
       "  <thead>\n",
       "    <tr style=\"text-align: right;\">\n",
       "      <th></th>\n",
       "      <th>agency_cd</th>\n",
       "      <th>site_no</th>\n",
       "      <th>datetime</th>\n",
       "      <th>74007_72019_00003</th>\n",
       "      <th>74007_72019_00003_cd</th>\n",
       "    </tr>\n",
       "    <tr>\n",
       "      <th>datetime</th>\n",
       "      <th></th>\n",
       "      <th></th>\n",
       "      <th></th>\n",
       "      <th></th>\n",
       "      <th></th>\n",
       "    </tr>\n",
       "  </thead>\n",
       "  <tbody>\n",
       "    <tr>\n",
       "      <th>2006-07-01</th>\n",
       "      <td>USGS</td>\n",
       "      <td>464222092403801</td>\n",
       "      <td>2006-07-01</td>\n",
       "      <td>8.48</td>\n",
       "      <td>A</td>\n",
       "    </tr>\n",
       "    <tr>\n",
       "      <th>2006-07-02</th>\n",
       "      <td>USGS</td>\n",
       "      <td>464222092403801</td>\n",
       "      <td>2006-07-02</td>\n",
       "      <td>8.51</td>\n",
       "      <td>A</td>\n",
       "    </tr>\n",
       "    <tr>\n",
       "      <th>2006-07-03</th>\n",
       "      <td>USGS</td>\n",
       "      <td>464222092403801</td>\n",
       "      <td>2006-07-03</td>\n",
       "      <td>8.54</td>\n",
       "      <td>A</td>\n",
       "    </tr>\n",
       "    <tr>\n",
       "      <th>2006-07-04</th>\n",
       "      <td>USGS</td>\n",
       "      <td>464222092403801</td>\n",
       "      <td>2006-07-04</td>\n",
       "      <td>8.56</td>\n",
       "      <td>A</td>\n",
       "    </tr>\n",
       "    <tr>\n",
       "      <th>2006-07-05</th>\n",
       "      <td>USGS</td>\n",
       "      <td>464222092403801</td>\n",
       "      <td>2006-07-05</td>\n",
       "      <td>8.59</td>\n",
       "      <td>A</td>\n",
       "    </tr>\n",
       "  </tbody>\n",
       "</table>\n",
       "</div>"
      ],
      "text/plain": [
       "           agency_cd          site_no    datetime  74007_72019_00003  \\\n",
       "datetime                                                               \n",
       "2006-07-01      USGS  464222092403801  2006-07-01               8.48   \n",
       "2006-07-02      USGS  464222092403801  2006-07-02               8.51   \n",
       "2006-07-03      USGS  464222092403801  2006-07-03               8.54   \n",
       "2006-07-04      USGS  464222092403801  2006-07-04               8.56   \n",
       "2006-07-05      USGS  464222092403801  2006-07-05               8.59   \n",
       "\n",
       "           74007_72019_00003_cd  \n",
       "datetime                         \n",
       "2006-07-01                    A  \n",
       "2006-07-02                    A  \n",
       "2006-07-03                    A  \n",
       "2006-07-04                    A  \n",
       "2006-07-05                    A  "
      ]
     },
     "execution_count": 11,
     "metadata": {},
     "output_type": "execute_result"
    }
   ],
   "source": [
    "dvs[464222092403801].head()"
   ]
  },
  {
   "cell_type": "code",
   "execution_count": 12,
   "metadata": {},
   "outputs": [
    {
     "data": {
      "image/png": "[encoded data removed]",
      "text/plain": [
       "<Figure size 432x288 with 1 Axes>"
      ]
     },
     "metadata": {
      "needs_background": "light"
     },
     "output_type": "display_data"
    }
   ],
   "source": [
    "ax = dvs[464222092403801]['74007_72019_00003'].plot()"
   ]
  },
  {
   "cell_type": "markdown",
   "metadata": {},
   "source": [
    "### get a single site"
   ]
  },
  {
   "cell_type": "code",
   "execution_count": 13,
   "metadata": {},
   "outputs": [
    {
     "name": "stdout",
     "output_type": "stream",
     "text": [
      "http://waterservices.usgs.gov/nwis/dv/?format=rdb&sites=464322092401401&startDT=1880-01-01&parameterCd=72019\n"
     ]
    },
    {
     "data": {
      "text/html": [
       "<div>\n",
       "<style scoped>\n",
       "    .dataframe tbody tr th:only-of-type {\n",
       "        vertical-align: middle;\n",
       "    }\n",
       "\n",
       "    .dataframe tbody tr th {\n",
       "        vertical-align: top;\n",
       "    }\n",
       "\n",
       "    .dataframe thead th {\n",
       "        text-align: right;\n",
       "    }\n",
       "</style>\n",
       "<table border=\"1\" class=\"dataframe\">\n",
       "  <thead>\n",
       "    <tr style=\"text-align: right;\">\n",
       "      <th></th>\n",
       "      <th>agency_cd</th>\n",
       "      <th>site_no</th>\n",
       "      <th>datetime</th>\n",
       "      <th>74012_72019_00003</th>\n",
       "      <th>74012_72019_00003_cd</th>\n",
       "    </tr>\n",
       "    <tr>\n",
       "      <th>datetime</th>\n",
       "      <th></th>\n",
       "      <th></th>\n",
       "      <th></th>\n",
       "      <th></th>\n",
       "      <th></th>\n",
       "    </tr>\n",
       "  </thead>\n",
       "  <tbody>\n",
       "    <tr>\n",
       "      <th>2006-07-01</th>\n",
       "      <td>USGS</td>\n",
       "      <td>464322092401401</td>\n",
       "      <td>2006-07-01</td>\n",
       "      <td>5.06</td>\n",
       "      <td>A</td>\n",
       "    </tr>\n",
       "    <tr>\n",
       "      <th>2006-07-02</th>\n",
       "      <td>USGS</td>\n",
       "      <td>464322092401401</td>\n",
       "      <td>2006-07-02</td>\n",
       "      <td>5.10</td>\n",
       "      <td>A</td>\n",
       "    </tr>\n",
       "    <tr>\n",
       "      <th>2006-07-03</th>\n",
       "      <td>USGS</td>\n",
       "      <td>464322092401401</td>\n",
       "      <td>2006-07-03</td>\n",
       "      <td>5.12</td>\n",
       "      <td>A</td>\n",
       "    </tr>\n",
       "    <tr>\n",
       "      <th>2006-07-04</th>\n",
       "      <td>USGS</td>\n",
       "      <td>464322092401401</td>\n",
       "      <td>2006-07-04</td>\n",
       "      <td>5.15</td>\n",
       "      <td>A</td>\n",
       "    </tr>\n",
       "    <tr>\n",
       "      <th>2006-07-05</th>\n",
       "      <td>USGS</td>\n",
       "      <td>464322092401401</td>\n",
       "      <td>2006-07-05</td>\n",
       "      <td>5.19</td>\n",
       "      <td>A</td>\n",
       "    </tr>\n",
       "  </tbody>\n",
       "</table>\n",
       "</div>"
      ],
      "text/plain": [
       "           agency_cd          site_no    datetime  74012_72019_00003  \\\n",
       "datetime                                                               \n",
       "2006-07-01      USGS  464322092401401  2006-07-01               5.06   \n",
       "2006-07-02      USGS  464322092401401  2006-07-02               5.10   \n",
       "2006-07-03      USGS  464322092401401  2006-07-03               5.12   \n",
       "2006-07-04      USGS  464322092401401  2006-07-04               5.15   \n",
       "2006-07-05      USGS  464322092401401  2006-07-05               5.19   \n",
       "\n",
       "           74012_72019_00003_cd  \n",
       "datetime                         \n",
       "2006-07-01                    A  \n",
       "2006-07-02                    A  \n",
       "2006-07-03                    A  \n",
       "2006-07-04                    A  \n",
       "2006-07-05                    A  "
      ]
     },
     "execution_count": 13,
     "metadata": {},
     "output_type": "execute_result"
    }
   ],
   "source": [
    "df = nwis.get_dvs(464322092401401, 'gwlevels')\n",
    "df.head()"
   ]
  },
  {
   "cell_type": "markdown",
   "metadata": {},
   "source": [
    "### just get the url for dvs for a site\n",
    "(`start_date` is 1880-01-01 by default; `end_date` is `None` by default)"
   ]
  },
  {
   "cell_type": "code",
   "execution_count": 14,
   "metadata": {},
   "outputs": [
    {
     "name": "stdout",
     "output_type": "stream",
     "text": [
      "http://waterservices.usgs.gov/nwis/dv/?format=rdb&sites=464322092401401&startDT=1880-01-01&parameterCd=72019\n"
     ]
    },
    {
     "data": {
      "text/plain": [
       "'http://waterservices.usgs.gov/nwis/dv/?format=rdb&sites=464322092401401&startDT=1880-01-01&parameterCd=72019'"
      ]
     },
     "execution_count": 14,
     "metadata": {},
     "output_type": "execute_result"
    }
   ],
   "source": [
    "url = nwis.make_dv_url(464322092401401, parameter_code=72019)\n",
    "url"
   ]
  },
  {
   "cell_type": "markdown",
   "metadata": {},
   "source": [
    "## Fetch some miscellaneous measurements"
   ]
  },
  {
   "cell_type": "code",
   "execution_count": 15,
   "metadata": {},
   "outputs": [
    {
     "data": {
      "text/plain": [
       "[464205092364101,\n",
       " 464205092371801,\n",
       " 464222092403801,\n",
       " 464244092372701,\n",
       " 464321092402301]"
      ]
     },
     "execution_count": 15,
     "metadata": {},
     "output_type": "execute_result"
    }
   ],
   "source": [
    "sites = nwis.gwfield_sites.site_no.tolist()[:5]\n",
    "sites"
   ]
  },
  {
   "cell_type": "code",
   "execution_count": 16,
   "metadata": {},
   "outputs": [
    {
     "name": "stdout",
     "output_type": "stream",
     "text": [
      "464205092364101\n",
      "http://nwis.waterdata.usgs.gov/nwis/gwlevels?site_no=464205092364101&agency_cd=USGS&format=rdb\n",
      "no data returned.\n",
      "464205092371801\n",
      "http://nwis.waterdata.usgs.gov/nwis/gwlevels?site_no=464205092371801&agency_cd=USGS&format=rdb\n",
      "no data returned.\n",
      "464222092403801\n",
      "http://nwis.waterdata.usgs.gov/nwis/gwlevels?site_no=464222092403801&agency_cd=USGS&format=rdb\n",
      "464244092372701\n",
      "http://nwis.waterdata.usgs.gov/nwis/gwlevels?site_no=464244092372701&agency_cd=USGS&format=rdb\n",
      "no data returned.\n",
      "464321092402301\n",
      "http://nwis.waterdata.usgs.gov/nwis/gwlevels?site_no=464321092402301&agency_cd=USGS&format=rdb\n"
     ]
    }
   ],
   "source": [
    "fm = nwis.get_all_measurements(sites, txt='gwlevels')"
   ]
  },
  {
   "cell_type": "code",
   "execution_count": 17,
   "metadata": {},
   "outputs": [
    {
     "data": {
      "text/html": [
       "<div>\n",
       "<style scoped>\n",
       "    .dataframe tbody tr th:only-of-type {\n",
       "        vertical-align: middle;\n",
       "    }\n",
       "\n",
       "    .dataframe tbody tr th {\n",
       "        vertical-align: top;\n",
       "    }\n",
       "\n",
       "    .dataframe thead th {\n",
       "        text-align: right;\n",
       "    }\n",
       "</style>\n",
       "<table border=\"1\" class=\"dataframe\">\n",
       "  <thead>\n",
       "    <tr style=\"text-align: right;\">\n",
       "      <th></th>\n",
       "      <th></th>\n",
       "      <th>agency_cd</th>\n",
       "      <th>site_no</th>\n",
       "      <th>site_tp_cd</th>\n",
       "      <th>lev_dt</th>\n",
       "      <th>lev_tm</th>\n",
       "      <th>lev_tz_cd</th>\n",
       "      <th>lev_va</th>\n",
       "      <th>sl_lev_va</th>\n",
       "      <th>sl_datum_cd</th>\n",
       "      <th>lev_status_cd</th>\n",
       "      <th>lev_agency_cd</th>\n",
       "      <th>lev_dt_acy_cd</th>\n",
       "      <th>lev_acy_cd</th>\n",
       "      <th>lev_src_cd</th>\n",
       "      <th>lev_meth_cd</th>\n",
       "      <th>lev_age_cd</th>\n",
       "      <th>measurement_dt</th>\n",
       "    </tr>\n",
       "    <tr>\n",
       "      <th>site_no</th>\n",
       "      <th>datetime</th>\n",
       "      <th></th>\n",
       "      <th></th>\n",
       "      <th></th>\n",
       "      <th></th>\n",
       "      <th></th>\n",
       "      <th></th>\n",
       "      <th></th>\n",
       "      <th></th>\n",
       "      <th></th>\n",
       "      <th></th>\n",
       "      <th></th>\n",
       "      <th></th>\n",
       "      <th></th>\n",
       "      <th></th>\n",
       "      <th></th>\n",
       "      <th></th>\n",
       "      <th></th>\n",
       "    </tr>\n",
       "  </thead>\n",
       "  <tbody>\n",
       "    <tr>\n",
       "      <th rowspan=\"5\" valign=\"top\">464222092403801</th>\n",
       "      <th>2006-06-01</th>\n",
       "      <td>USGS</td>\n",
       "      <td>464222092403801</td>\n",
       "      <td>GW</td>\n",
       "      <td>2006-06-01</td>\n",
       "      <td>15:34</td>\n",
       "      <td>CDT</td>\n",
       "      <td>7.59</td>\n",
       "      <td>NaN</td>\n",
       "      <td>NaN</td>\n",
       "      <td>NaN</td>\n",
       "      <td>USGS</td>\n",
       "      <td>m</td>\n",
       "      <td>2</td>\n",
       "      <td>S</td>\n",
       "      <td>V</td>\n",
       "      <td>A</td>\n",
       "      <td>2006-06-01</td>\n",
       "    </tr>\n",
       "    <tr>\n",
       "      <th>2006-06-23</th>\n",
       "      <td>USGS</td>\n",
       "      <td>464222092403801</td>\n",
       "      <td>GW</td>\n",
       "      <td>2006-06-23</td>\n",
       "      <td>07:58</td>\n",
       "      <td>CDT</td>\n",
       "      <td>8.30</td>\n",
       "      <td>NaN</td>\n",
       "      <td>NaN</td>\n",
       "      <td>NaN</td>\n",
       "      <td>USGS</td>\n",
       "      <td>m</td>\n",
       "      <td>2</td>\n",
       "      <td>S</td>\n",
       "      <td>V</td>\n",
       "      <td>A</td>\n",
       "      <td>2006-06-23</td>\n",
       "    </tr>\n",
       "    <tr>\n",
       "      <th>2006-06-30</th>\n",
       "      <td>USGS</td>\n",
       "      <td>464222092403801</td>\n",
       "      <td>GW</td>\n",
       "      <td>2006-06-30</td>\n",
       "      <td>12:37</td>\n",
       "      <td>CDT</td>\n",
       "      <td>8.46</td>\n",
       "      <td>NaN</td>\n",
       "      <td>NaN</td>\n",
       "      <td>NaN</td>\n",
       "      <td>USGS</td>\n",
       "      <td>m</td>\n",
       "      <td>2</td>\n",
       "      <td>S</td>\n",
       "      <td>V</td>\n",
       "      <td>A</td>\n",
       "      <td>2006-06-30</td>\n",
       "    </tr>\n",
       "    <tr>\n",
       "      <th>2006-07-21</th>\n",
       "      <td>USGS</td>\n",
       "      <td>464222092403801</td>\n",
       "      <td>GW</td>\n",
       "      <td>2006-07-21</td>\n",
       "      <td>07:34</td>\n",
       "      <td>CDT</td>\n",
       "      <td>8.90</td>\n",
       "      <td>NaN</td>\n",
       "      <td>NaN</td>\n",
       "      <td>NaN</td>\n",
       "      <td>USGS</td>\n",
       "      <td>m</td>\n",
       "      <td>2</td>\n",
       "      <td>S</td>\n",
       "      <td>V</td>\n",
       "      <td>A</td>\n",
       "      <td>2006-07-21</td>\n",
       "    </tr>\n",
       "    <tr>\n",
       "      <th>2006-08-31</th>\n",
       "      <td>USGS</td>\n",
       "      <td>464222092403801</td>\n",
       "      <td>GW</td>\n",
       "      <td>2006-08-31</td>\n",
       "      <td>10:09</td>\n",
       "      <td>CDT</td>\n",
       "      <td>9.09</td>\n",
       "      <td>NaN</td>\n",
       "      <td>NaN</td>\n",
       "      <td>NaN</td>\n",
       "      <td>USGS</td>\n",
       "      <td>m</td>\n",
       "      <td>2</td>\n",
       "      <td>S</td>\n",
       "      <td>V</td>\n",
       "      <td>A</td>\n",
       "      <td>2006-08-31</td>\n",
       "    </tr>\n",
       "  </tbody>\n",
       "</table>\n",
       "</div>"
      ],
      "text/plain": [
       "                           agency_cd          site_no site_tp_cd      lev_dt  \\\n",
       "site_no         datetime                                                       \n",
       "464222092403801 2006-06-01      USGS  464222092403801         GW  2006-06-01   \n",
       "                2006-06-23      USGS  464222092403801         GW  2006-06-23   \n",
       "                2006-06-30      USGS  464222092403801         GW  2006-06-30   \n",
       "                2006-07-21      USGS  464222092403801         GW  2006-07-21   \n",
       "                2006-08-31      USGS  464222092403801         GW  2006-08-31   \n",
       "\n",
       "                           lev_tm lev_tz_cd  lev_va  sl_lev_va  sl_datum_cd  \\\n",
       "site_no         datetime                                                      \n",
       "464222092403801 2006-06-01  15:34       CDT    7.59        NaN          NaN   \n",
       "                2006-06-23  07:58       CDT    8.30        NaN          NaN   \n",
       "                2006-06-30  12:37       CDT    8.46        NaN          NaN   \n",
       "                2006-07-21  07:34       CDT    8.90        NaN          NaN   \n",
       "                2006-08-31  10:09       CDT    9.09        NaN          NaN   \n",
       "\n",
       "                            lev_status_cd lev_agency_cd lev_dt_acy_cd  \\\n",
       "site_no         datetime                                                \n",
       "464222092403801 2006-06-01            NaN          USGS             m   \n",
       "                2006-06-23            NaN          USGS             m   \n",
       "                2006-06-30            NaN          USGS             m   \n",
       "                2006-07-21            NaN          USGS             m   \n",
       "                2006-08-31            NaN          USGS             m   \n",
       "\n",
       "                            lev_acy_cd lev_src_cd lev_meth_cd lev_age_cd  \\\n",
       "site_no         datetime                                                   \n",
       "464222092403801 2006-06-01           2          S           V          A   \n",
       "                2006-06-23           2          S           V          A   \n",
       "                2006-06-30           2          S           V          A   \n",
       "                2006-07-21           2          S           V          A   \n",
       "                2006-08-31           2          S           V          A   \n",
       "\n",
       "                           measurement_dt  \n",
       "site_no         datetime                   \n",
       "464222092403801 2006-06-01     2006-06-01  \n",
       "                2006-06-23     2006-06-23  \n",
       "                2006-06-30     2006-06-30  \n",
       "                2006-07-21     2006-07-21  \n",
       "                2006-08-31     2006-08-31  "
      ]
     },
     "execution_count": 17,
     "metadata": {},
     "output_type": "execute_result"
    }
   ],
   "source": [
    "fm.head()"
   ]
  },
  {
   "cell_type": "code",
   "execution_count": null,
   "metadata": {},
   "outputs": [],
   "source": []
  }
 ],
 "metadata": {
  "anaconda-cloud": {},
  "kernelspec": {
   "display_name": "Python 3",
   "language": "python",
   "name": "python3"
  },
  "language_info": {
   "codemirror_mode": {
    "name": "ipython",
    "version": 3
   },
   "file_extension": ".py",
   "mimetype": "text/x-python",
   "name": "python",
   "nbconvert_exporter": "python",
   "pygments_lexer": "ipython3",
   "version": "3.8.1"
  }
 },
 "nbformat": 4,
 "nbformat_minor": 1
}
